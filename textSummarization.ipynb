{
  "nbformat": 4,
  "nbformat_minor": 0,
  "metadata": {
    "colab": {
      "provenance": []
    },
    "kernelspec": {
      "name": "python3",
      "display_name": "Python 3"
    },
    "language_info": {
      "name": "python"
    },
    "widgets": {
      "application/vnd.jupyter.widget-state+json": {
        "48391dbb2c254bbeb425d21669b6fbd2": {
          "model_module": "@jupyter-widgets/controls",
          "model_name": "HBoxModel",
          "model_module_version": "1.5.0",
          "state": {
            "_dom_classes": [],
            "_model_module": "@jupyter-widgets/controls",
            "_model_module_version": "1.5.0",
            "_model_name": "HBoxModel",
            "_view_count": null,
            "_view_module": "@jupyter-widgets/controls",
            "_view_module_version": "1.5.0",
            "_view_name": "HBoxView",
            "box_style": "",
            "children": [
              "IPY_MODEL_5a2a6feb8df64400bfa2f470eb084ddf",
              "IPY_MODEL_8e02874119ab4a52a53e0adac3fbf2ba",
              "IPY_MODEL_2e3ad7d8bbc24fa1a419d9e876494175"
            ],
            "layout": "IPY_MODEL_da31ad924df64b3aa069603f1d820b07"
          }
        },
        "5a2a6feb8df64400bfa2f470eb084ddf": {
          "model_module": "@jupyter-widgets/controls",
          "model_name": "HTMLModel",
          "model_module_version": "1.5.0",
          "state": {
            "_dom_classes": [],
            "_model_module": "@jupyter-widgets/controls",
            "_model_module_version": "1.5.0",
            "_model_name": "HTMLModel",
            "_view_count": null,
            "_view_module": "@jupyter-widgets/controls",
            "_view_module_version": "1.5.0",
            "_view_name": "HTMLView",
            "description": "",
            "description_tooltip": null,
            "layout": "IPY_MODEL_f02c8a86d8424141ba15c579fbb16ae0",
            "placeholder": "​",
            "style": "IPY_MODEL_42bd32d8dd854e84b207a1284729498e",
            "value": "model.safetensors: 100%"
          }
        },
        "8e02874119ab4a52a53e0adac3fbf2ba": {
          "model_module": "@jupyter-widgets/controls",
          "model_name": "FloatProgressModel",
          "model_module_version": "1.5.0",
          "state": {
            "_dom_classes": [],
            "_model_module": "@jupyter-widgets/controls",
            "_model_module_version": "1.5.0",
            "_model_name": "FloatProgressModel",
            "_view_count": null,
            "_view_module": "@jupyter-widgets/controls",
            "_view_module_version": "1.5.0",
            "_view_name": "ProgressView",
            "bar_style": "success",
            "description": "",
            "description_tooltip": null,
            "layout": "IPY_MODEL_f53d0bfa275541f3943f8cb45da0dfa9",
            "max": 1625222120,
            "min": 0,
            "orientation": "horizontal",
            "style": "IPY_MODEL_b6ef47b9ce594c098736f48339113e07",
            "value": 1625222120
          }
        },
        "2e3ad7d8bbc24fa1a419d9e876494175": {
          "model_module": "@jupyter-widgets/controls",
          "model_name": "HTMLModel",
          "model_module_version": "1.5.0",
          "state": {
            "_dom_classes": [],
            "_model_module": "@jupyter-widgets/controls",
            "_model_module_version": "1.5.0",
            "_model_name": "HTMLModel",
            "_view_count": null,
            "_view_module": "@jupyter-widgets/controls",
            "_view_module_version": "1.5.0",
            "_view_name": "HTMLView",
            "description": "",
            "description_tooltip": null,
            "layout": "IPY_MODEL_fe02d7772e254b5d9efe6b124c35324c",
            "placeholder": "​",
            "style": "IPY_MODEL_17adccbbdced41e897b72f821f9a3f4d",
            "value": " 1.63G/1.63G [00:20&lt;00:00, 93.8MB/s]"
          }
        },
        "da31ad924df64b3aa069603f1d820b07": {
          "model_module": "@jupyter-widgets/base",
          "model_name": "LayoutModel",
          "model_module_version": "1.2.0",
          "state": {
            "_model_module": "@jupyter-widgets/base",
            "_model_module_version": "1.2.0",
            "_model_name": "LayoutModel",
            "_view_count": null,
            "_view_module": "@jupyter-widgets/base",
            "_view_module_version": "1.2.0",
            "_view_name": "LayoutView",
            "align_content": null,
            "align_items": null,
            "align_self": null,
            "border": null,
            "bottom": null,
            "display": null,
            "flex": null,
            "flex_flow": null,
            "grid_area": null,
            "grid_auto_columns": null,
            "grid_auto_flow": null,
            "grid_auto_rows": null,
            "grid_column": null,
            "grid_gap": null,
            "grid_row": null,
            "grid_template_areas": null,
            "grid_template_columns": null,
            "grid_template_rows": null,
            "height": null,
            "justify_content": null,
            "justify_items": null,
            "left": null,
            "margin": null,
            "max_height": null,
            "max_width": null,
            "min_height": null,
            "min_width": null,
            "object_fit": null,
            "object_position": null,
            "order": null,
            "overflow": null,
            "overflow_x": null,
            "overflow_y": null,
            "padding": null,
            "right": null,
            "top": null,
            "visibility": null,
            "width": null
          }
        },
        "f02c8a86d8424141ba15c579fbb16ae0": {
          "model_module": "@jupyter-widgets/base",
          "model_name": "LayoutModel",
          "model_module_version": "1.2.0",
          "state": {
            "_model_module": "@jupyter-widgets/base",
            "_model_module_version": "1.2.0",
            "_model_name": "LayoutModel",
            "_view_count": null,
            "_view_module": "@jupyter-widgets/base",
            "_view_module_version": "1.2.0",
            "_view_name": "LayoutView",
            "align_content": null,
            "align_items": null,
            "align_self": null,
            "border": null,
            "bottom": null,
            "display": null,
            "flex": null,
            "flex_flow": null,
            "grid_area": null,
            "grid_auto_columns": null,
            "grid_auto_flow": null,
            "grid_auto_rows": null,
            "grid_column": null,
            "grid_gap": null,
            "grid_row": null,
            "grid_template_areas": null,
            "grid_template_columns": null,
            "grid_template_rows": null,
            "height": null,
            "justify_content": null,
            "justify_items": null,
            "left": null,
            "margin": null,
            "max_height": null,
            "max_width": null,
            "min_height": null,
            "min_width": null,
            "object_fit": null,
            "object_position": null,
            "order": null,
            "overflow": null,
            "overflow_x": null,
            "overflow_y": null,
            "padding": null,
            "right": null,
            "top": null,
            "visibility": null,
            "width": null
          }
        },
        "42bd32d8dd854e84b207a1284729498e": {
          "model_module": "@jupyter-widgets/controls",
          "model_name": "DescriptionStyleModel",
          "model_module_version": "1.5.0",
          "state": {
            "_model_module": "@jupyter-widgets/controls",
            "_model_module_version": "1.5.0",
            "_model_name": "DescriptionStyleModel",
            "_view_count": null,
            "_view_module": "@jupyter-widgets/base",
            "_view_module_version": "1.2.0",
            "_view_name": "StyleView",
            "description_width": ""
          }
        },
        "f53d0bfa275541f3943f8cb45da0dfa9": {
          "model_module": "@jupyter-widgets/base",
          "model_name": "LayoutModel",
          "model_module_version": "1.2.0",
          "state": {
            "_model_module": "@jupyter-widgets/base",
            "_model_module_version": "1.2.0",
            "_model_name": "LayoutModel",
            "_view_count": null,
            "_view_module": "@jupyter-widgets/base",
            "_view_module_version": "1.2.0",
            "_view_name": "LayoutView",
            "align_content": null,
            "align_items": null,
            "align_self": null,
            "border": null,
            "bottom": null,
            "display": null,
            "flex": null,
            "flex_flow": null,
            "grid_area": null,
            "grid_auto_columns": null,
            "grid_auto_flow": null,
            "grid_auto_rows": null,
            "grid_column": null,
            "grid_gap": null,
            "grid_row": null,
            "grid_template_areas": null,
            "grid_template_columns": null,
            "grid_template_rows": null,
            "height": null,
            "justify_content": null,
            "justify_items": null,
            "left": null,
            "margin": null,
            "max_height": null,
            "max_width": null,
            "min_height": null,
            "min_width": null,
            "object_fit": null,
            "object_position": null,
            "order": null,
            "overflow": null,
            "overflow_x": null,
            "overflow_y": null,
            "padding": null,
            "right": null,
            "top": null,
            "visibility": null,
            "width": null
          }
        },
        "b6ef47b9ce594c098736f48339113e07": {
          "model_module": "@jupyter-widgets/controls",
          "model_name": "ProgressStyleModel",
          "model_module_version": "1.5.0",
          "state": {
            "_model_module": "@jupyter-widgets/controls",
            "_model_module_version": "1.5.0",
            "_model_name": "ProgressStyleModel",
            "_view_count": null,
            "_view_module": "@jupyter-widgets/base",
            "_view_module_version": "1.2.0",
            "_view_name": "StyleView",
            "bar_color": null,
            "description_width": ""
          }
        },
        "fe02d7772e254b5d9efe6b124c35324c": {
          "model_module": "@jupyter-widgets/base",
          "model_name": "LayoutModel",
          "model_module_version": "1.2.0",
          "state": {
            "_model_module": "@jupyter-widgets/base",
            "_model_module_version": "1.2.0",
            "_model_name": "LayoutModel",
            "_view_count": null,
            "_view_module": "@jupyter-widgets/base",
            "_view_module_version": "1.2.0",
            "_view_name": "LayoutView",
            "align_content": null,
            "align_items": null,
            "align_self": null,
            "border": null,
            "bottom": null,
            "display": null,
            "flex": null,
            "flex_flow": null,
            "grid_area": null,
            "grid_auto_columns": null,
            "grid_auto_flow": null,
            "grid_auto_rows": null,
            "grid_column": null,
            "grid_gap": null,
            "grid_row": null,
            "grid_template_areas": null,
            "grid_template_columns": null,
            "grid_template_rows": null,
            "height": null,
            "justify_content": null,
            "justify_items": null,
            "left": null,
            "margin": null,
            "max_height": null,
            "max_width": null,
            "min_height": null,
            "min_width": null,
            "object_fit": null,
            "object_position": null,
            "order": null,
            "overflow": null,
            "overflow_x": null,
            "overflow_y": null,
            "padding": null,
            "right": null,
            "top": null,
            "visibility": null,
            "width": null
          }
        },
        "17adccbbdced41e897b72f821f9a3f4d": {
          "model_module": "@jupyter-widgets/controls",
          "model_name": "DescriptionStyleModel",
          "model_module_version": "1.5.0",
          "state": {
            "_model_module": "@jupyter-widgets/controls",
            "_model_module_version": "1.5.0",
            "_model_name": "DescriptionStyleModel",
            "_view_count": null,
            "_view_module": "@jupyter-widgets/base",
            "_view_module_version": "1.2.0",
            "_view_name": "StyleView",
            "description_width": ""
          }
        },
        "05734d3fa7ca472eafea6e50a9d03194": {
          "model_module": "@jupyter-widgets/controls",
          "model_name": "HBoxModel",
          "model_module_version": "1.5.0",
          "state": {
            "_dom_classes": [],
            "_model_module": "@jupyter-widgets/controls",
            "_model_module_version": "1.5.0",
            "_model_name": "HBoxModel",
            "_view_count": null,
            "_view_module": "@jupyter-widgets/controls",
            "_view_module_version": "1.5.0",
            "_view_name": "HBoxView",
            "box_style": "",
            "children": [
              "IPY_MODEL_7a99de6b88154e2785d7402850af66e9",
              "IPY_MODEL_cacd2719a495463ea54503514cac7e17",
              "IPY_MODEL_9534cb1da8554ee99850fd5473db6659"
            ],
            "layout": "IPY_MODEL_446c58457390440c8528175b2a864644"
          }
        },
        "7a99de6b88154e2785d7402850af66e9": {
          "model_module": "@jupyter-widgets/controls",
          "model_name": "HTMLModel",
          "model_module_version": "1.5.0",
          "state": {
            "_dom_classes": [],
            "_model_module": "@jupyter-widgets/controls",
            "_model_module_version": "1.5.0",
            "_model_name": "HTMLModel",
            "_view_count": null,
            "_view_module": "@jupyter-widgets/controls",
            "_view_module_version": "1.5.0",
            "_view_name": "HTMLView",
            "description": "",
            "description_tooltip": null,
            "layout": "IPY_MODEL_d1215bb223de4534855426c9dbcdf6ad",
            "placeholder": "​",
            "style": "IPY_MODEL_de8e0085affb4c9cb29a48395cfae99d",
            "value": "generation_config.json: 100%"
          }
        },
        "cacd2719a495463ea54503514cac7e17": {
          "model_module": "@jupyter-widgets/controls",
          "model_name": "FloatProgressModel",
          "model_module_version": "1.5.0",
          "state": {
            "_dom_classes": [],
            "_model_module": "@jupyter-widgets/controls",
            "_model_module_version": "1.5.0",
            "_model_name": "FloatProgressModel",
            "_view_count": null,
            "_view_module": "@jupyter-widgets/controls",
            "_view_module_version": "1.5.0",
            "_view_name": "ProgressView",
            "bar_style": "success",
            "description": "",
            "description_tooltip": null,
            "layout": "IPY_MODEL_1efc30b7580c44989ca844110ea4fc28",
            "max": 363,
            "min": 0,
            "orientation": "horizontal",
            "style": "IPY_MODEL_4111b1ac9bfd45e5bce8c6ce45e4f8e1",
            "value": 363
          }
        },
        "9534cb1da8554ee99850fd5473db6659": {
          "model_module": "@jupyter-widgets/controls",
          "model_name": "HTMLModel",
          "model_module_version": "1.5.0",
          "state": {
            "_dom_classes": [],
            "_model_module": "@jupyter-widgets/controls",
            "_model_module_version": "1.5.0",
            "_model_name": "HTMLModel",
            "_view_count": null,
            "_view_module": "@jupyter-widgets/controls",
            "_view_module_version": "1.5.0",
            "_view_name": "HTMLView",
            "description": "",
            "description_tooltip": null,
            "layout": "IPY_MODEL_e1413e505dc24746b36b89be9521d2fa",
            "placeholder": "​",
            "style": "IPY_MODEL_44111380a30a431786fc4e13e73faef9",
            "value": " 363/363 [00:00&lt;00:00, 17.9kB/s]"
          }
        },
        "446c58457390440c8528175b2a864644": {
          "model_module": "@jupyter-widgets/base",
          "model_name": "LayoutModel",
          "model_module_version": "1.2.0",
          "state": {
            "_model_module": "@jupyter-widgets/base",
            "_model_module_version": "1.2.0",
            "_model_name": "LayoutModel",
            "_view_count": null,
            "_view_module": "@jupyter-widgets/base",
            "_view_module_version": "1.2.0",
            "_view_name": "LayoutView",
            "align_content": null,
            "align_items": null,
            "align_self": null,
            "border": null,
            "bottom": null,
            "display": null,
            "flex": null,
            "flex_flow": null,
            "grid_area": null,
            "grid_auto_columns": null,
            "grid_auto_flow": null,
            "grid_auto_rows": null,
            "grid_column": null,
            "grid_gap": null,
            "grid_row": null,
            "grid_template_areas": null,
            "grid_template_columns": null,
            "grid_template_rows": null,
            "height": null,
            "justify_content": null,
            "justify_items": null,
            "left": null,
            "margin": null,
            "max_height": null,
            "max_width": null,
            "min_height": null,
            "min_width": null,
            "object_fit": null,
            "object_position": null,
            "order": null,
            "overflow": null,
            "overflow_x": null,
            "overflow_y": null,
            "padding": null,
            "right": null,
            "top": null,
            "visibility": null,
            "width": null
          }
        },
        "d1215bb223de4534855426c9dbcdf6ad": {
          "model_module": "@jupyter-widgets/base",
          "model_name": "LayoutModel",
          "model_module_version": "1.2.0",
          "state": {
            "_model_module": "@jupyter-widgets/base",
            "_model_module_version": "1.2.0",
            "_model_name": "LayoutModel",
            "_view_count": null,
            "_view_module": "@jupyter-widgets/base",
            "_view_module_version": "1.2.0",
            "_view_name": "LayoutView",
            "align_content": null,
            "align_items": null,
            "align_self": null,
            "border": null,
            "bottom": null,
            "display": null,
            "flex": null,
            "flex_flow": null,
            "grid_area": null,
            "grid_auto_columns": null,
            "grid_auto_flow": null,
            "grid_auto_rows": null,
            "grid_column": null,
            "grid_gap": null,
            "grid_row": null,
            "grid_template_areas": null,
            "grid_template_columns": null,
            "grid_template_rows": null,
            "height": null,
            "justify_content": null,
            "justify_items": null,
            "left": null,
            "margin": null,
            "max_height": null,
            "max_width": null,
            "min_height": null,
            "min_width": null,
            "object_fit": null,
            "object_position": null,
            "order": null,
            "overflow": null,
            "overflow_x": null,
            "overflow_y": null,
            "padding": null,
            "right": null,
            "top": null,
            "visibility": null,
            "width": null
          }
        },
        "de8e0085affb4c9cb29a48395cfae99d": {
          "model_module": "@jupyter-widgets/controls",
          "model_name": "DescriptionStyleModel",
          "model_module_version": "1.5.0",
          "state": {
            "_model_module": "@jupyter-widgets/controls",
            "_model_module_version": "1.5.0",
            "_model_name": "DescriptionStyleModel",
            "_view_count": null,
            "_view_module": "@jupyter-widgets/base",
            "_view_module_version": "1.2.0",
            "_view_name": "StyleView",
            "description_width": ""
          }
        },
        "1efc30b7580c44989ca844110ea4fc28": {
          "model_module": "@jupyter-widgets/base",
          "model_name": "LayoutModel",
          "model_module_version": "1.2.0",
          "state": {
            "_model_module": "@jupyter-widgets/base",
            "_model_module_version": "1.2.0",
            "_model_name": "LayoutModel",
            "_view_count": null,
            "_view_module": "@jupyter-widgets/base",
            "_view_module_version": "1.2.0",
            "_view_name": "LayoutView",
            "align_content": null,
            "align_items": null,
            "align_self": null,
            "border": null,
            "bottom": null,
            "display": null,
            "flex": null,
            "flex_flow": null,
            "grid_area": null,
            "grid_auto_columns": null,
            "grid_auto_flow": null,
            "grid_auto_rows": null,
            "grid_column": null,
            "grid_gap": null,
            "grid_row": null,
            "grid_template_areas": null,
            "grid_template_columns": null,
            "grid_template_rows": null,
            "height": null,
            "justify_content": null,
            "justify_items": null,
            "left": null,
            "margin": null,
            "max_height": null,
            "max_width": null,
            "min_height": null,
            "min_width": null,
            "object_fit": null,
            "object_position": null,
            "order": null,
            "overflow": null,
            "overflow_x": null,
            "overflow_y": null,
            "padding": null,
            "right": null,
            "top": null,
            "visibility": null,
            "width": null
          }
        },
        "4111b1ac9bfd45e5bce8c6ce45e4f8e1": {
          "model_module": "@jupyter-widgets/controls",
          "model_name": "ProgressStyleModel",
          "model_module_version": "1.5.0",
          "state": {
            "_model_module": "@jupyter-widgets/controls",
            "_model_module_version": "1.5.0",
            "_model_name": "ProgressStyleModel",
            "_view_count": null,
            "_view_module": "@jupyter-widgets/base",
            "_view_module_version": "1.2.0",
            "_view_name": "StyleView",
            "bar_color": null,
            "description_width": ""
          }
        },
        "e1413e505dc24746b36b89be9521d2fa": {
          "model_module": "@jupyter-widgets/base",
          "model_name": "LayoutModel",
          "model_module_version": "1.2.0",
          "state": {
            "_model_module": "@jupyter-widgets/base",
            "_model_module_version": "1.2.0",
            "_model_name": "LayoutModel",
            "_view_count": null,
            "_view_module": "@jupyter-widgets/base",
            "_view_module_version": "1.2.0",
            "_view_name": "LayoutView",
            "align_content": null,
            "align_items": null,
            "align_self": null,
            "border": null,
            "bottom": null,
            "display": null,
            "flex": null,
            "flex_flow": null,
            "grid_area": null,
            "grid_auto_columns": null,
            "grid_auto_flow": null,
            "grid_auto_rows": null,
            "grid_column": null,
            "grid_gap": null,
            "grid_row": null,
            "grid_template_areas": null,
            "grid_template_columns": null,
            "grid_template_rows": null,
            "height": null,
            "justify_content": null,
            "justify_items": null,
            "left": null,
            "margin": null,
            "max_height": null,
            "max_width": null,
            "min_height": null,
            "min_width": null,
            "object_fit": null,
            "object_position": null,
            "order": null,
            "overflow": null,
            "overflow_x": null,
            "overflow_y": null,
            "padding": null,
            "right": null,
            "top": null,
            "visibility": null,
            "width": null
          }
        },
        "44111380a30a431786fc4e13e73faef9": {
          "model_module": "@jupyter-widgets/controls",
          "model_name": "DescriptionStyleModel",
          "model_module_version": "1.5.0",
          "state": {
            "_model_module": "@jupyter-widgets/controls",
            "_model_module_version": "1.5.0",
            "_model_name": "DescriptionStyleModel",
            "_view_count": null,
            "_view_module": "@jupyter-widgets/base",
            "_view_module_version": "1.2.0",
            "_view_name": "StyleView",
            "description_width": ""
          }
        },
        "6908a5b09701421d884e797ecfa72aed": {
          "model_module": "@jupyter-widgets/controls",
          "model_name": "HBoxModel",
          "model_module_version": "1.5.0",
          "state": {
            "_dom_classes": [],
            "_model_module": "@jupyter-widgets/controls",
            "_model_module_version": "1.5.0",
            "_model_name": "HBoxModel",
            "_view_count": null,
            "_view_module": "@jupyter-widgets/controls",
            "_view_module_version": "1.5.0",
            "_view_name": "HBoxView",
            "box_style": "",
            "children": [
              "IPY_MODEL_e22caf32e453432fa067b437d0af44f7",
              "IPY_MODEL_03a1b8d2d972463cb06df944b4bbe120",
              "IPY_MODEL_1570d6ef19f64248bf43bbeefb85d69b"
            ],
            "layout": "IPY_MODEL_13bfd76c66934f6499fafa1731445de3"
          }
        },
        "e22caf32e453432fa067b437d0af44f7": {
          "model_module": "@jupyter-widgets/controls",
          "model_name": "HTMLModel",
          "model_module_version": "1.5.0",
          "state": {
            "_dom_classes": [],
            "_model_module": "@jupyter-widgets/controls",
            "_model_module_version": "1.5.0",
            "_model_name": "HTMLModel",
            "_view_count": null,
            "_view_module": "@jupyter-widgets/controls",
            "_view_module_version": "1.5.0",
            "_view_name": "HTMLView",
            "description": "",
            "description_tooltip": null,
            "layout": "IPY_MODEL_b278f97ad45f4e2e8c5f37277cf33404",
            "placeholder": "​",
            "style": "IPY_MODEL_11e6d098baff477f884131ca6d1d11ad",
            "value": "  0%"
          }
        },
        "03a1b8d2d972463cb06df944b4bbe120": {
          "model_module": "@jupyter-widgets/controls",
          "model_name": "FloatProgressModel",
          "model_module_version": "1.5.0",
          "state": {
            "_dom_classes": [],
            "_model_module": "@jupyter-widgets/controls",
            "_model_module_version": "1.5.0",
            "_model_name": "FloatProgressModel",
            "_view_count": null,
            "_view_module": "@jupyter-widgets/controls",
            "_view_module_version": "1.5.0",
            "_view_name": "ProgressView",
            "bar_style": "",
            "description": "",
            "description_tooltip": null,
            "layout": "IPY_MODEL_c87a12b34539412c8ba49ee737dad507",
            "max": 3683,
            "min": 0,
            "orientation": "horizontal",
            "style": "IPY_MODEL_9be786583965422ba7956b4c8452c1cf",
            "value": 0
          }
        },
        "1570d6ef19f64248bf43bbeefb85d69b": {
          "model_module": "@jupyter-widgets/controls",
          "model_name": "HTMLModel",
          "model_module_version": "1.5.0",
          "state": {
            "_dom_classes": [],
            "_model_module": "@jupyter-widgets/controls",
            "_model_module_version": "1.5.0",
            "_model_name": "HTMLModel",
            "_view_count": null,
            "_view_module": "@jupyter-widgets/controls",
            "_view_module_version": "1.5.0",
            "_view_name": "HTMLView",
            "description": "",
            "description_tooltip": null,
            "layout": "IPY_MODEL_26de68d4beab43f08b902043633b2b3d",
            "placeholder": "​",
            "style": "IPY_MODEL_28043597ad834492aa817582aeff5b31",
            "value": " 0/3683 [00:00&lt;?, ?it/s]"
          }
        },
        "13bfd76c66934f6499fafa1731445de3": {
          "model_module": "@jupyter-widgets/base",
          "model_name": "LayoutModel",
          "model_module_version": "1.2.0",
          "state": {
            "_model_module": "@jupyter-widgets/base",
            "_model_module_version": "1.2.0",
            "_model_name": "LayoutModel",
            "_view_count": null,
            "_view_module": "@jupyter-widgets/base",
            "_view_module_version": "1.2.0",
            "_view_name": "LayoutView",
            "align_content": null,
            "align_items": null,
            "align_self": null,
            "border": null,
            "bottom": null,
            "display": null,
            "flex": null,
            "flex_flow": null,
            "grid_area": null,
            "grid_auto_columns": null,
            "grid_auto_flow": null,
            "grid_auto_rows": null,
            "grid_column": null,
            "grid_gap": null,
            "grid_row": null,
            "grid_template_areas": null,
            "grid_template_columns": null,
            "grid_template_rows": null,
            "height": null,
            "justify_content": null,
            "justify_items": null,
            "left": null,
            "margin": null,
            "max_height": null,
            "max_width": null,
            "min_height": null,
            "min_width": null,
            "object_fit": null,
            "object_position": null,
            "order": null,
            "overflow": null,
            "overflow_x": null,
            "overflow_y": null,
            "padding": null,
            "right": null,
            "top": null,
            "visibility": null,
            "width": null
          }
        },
        "b278f97ad45f4e2e8c5f37277cf33404": {
          "model_module": "@jupyter-widgets/base",
          "model_name": "LayoutModel",
          "model_module_version": "1.2.0",
          "state": {
            "_model_module": "@jupyter-widgets/base",
            "_model_module_version": "1.2.0",
            "_model_name": "LayoutModel",
            "_view_count": null,
            "_view_module": "@jupyter-widgets/base",
            "_view_module_version": "1.2.0",
            "_view_name": "LayoutView",
            "align_content": null,
            "align_items": null,
            "align_self": null,
            "border": null,
            "bottom": null,
            "display": null,
            "flex": null,
            "flex_flow": null,
            "grid_area": null,
            "grid_auto_columns": null,
            "grid_auto_flow": null,
            "grid_auto_rows": null,
            "grid_column": null,
            "grid_gap": null,
            "grid_row": null,
            "grid_template_areas": null,
            "grid_template_columns": null,
            "grid_template_rows": null,
            "height": null,
            "justify_content": null,
            "justify_items": null,
            "left": null,
            "margin": null,
            "max_height": null,
            "max_width": null,
            "min_height": null,
            "min_width": null,
            "object_fit": null,
            "object_position": null,
            "order": null,
            "overflow": null,
            "overflow_x": null,
            "overflow_y": null,
            "padding": null,
            "right": null,
            "top": null,
            "visibility": null,
            "width": null
          }
        },
        "11e6d098baff477f884131ca6d1d11ad": {
          "model_module": "@jupyter-widgets/controls",
          "model_name": "DescriptionStyleModel",
          "model_module_version": "1.5.0",
          "state": {
            "_model_module": "@jupyter-widgets/controls",
            "_model_module_version": "1.5.0",
            "_model_name": "DescriptionStyleModel",
            "_view_count": null,
            "_view_module": "@jupyter-widgets/base",
            "_view_module_version": "1.2.0",
            "_view_name": "StyleView",
            "description_width": ""
          }
        },
        "c87a12b34539412c8ba49ee737dad507": {
          "model_module": "@jupyter-widgets/base",
          "model_name": "LayoutModel",
          "model_module_version": "1.2.0",
          "state": {
            "_model_module": "@jupyter-widgets/base",
            "_model_module_version": "1.2.0",
            "_model_name": "LayoutModel",
            "_view_count": null,
            "_view_module": "@jupyter-widgets/base",
            "_view_module_version": "1.2.0",
            "_view_name": "LayoutView",
            "align_content": null,
            "align_items": null,
            "align_self": null,
            "border": null,
            "bottom": null,
            "display": null,
            "flex": null,
            "flex_flow": null,
            "grid_area": null,
            "grid_auto_columns": null,
            "grid_auto_flow": null,
            "grid_auto_rows": null,
            "grid_column": null,
            "grid_gap": null,
            "grid_row": null,
            "grid_template_areas": null,
            "grid_template_columns": null,
            "grid_template_rows": null,
            "height": null,
            "justify_content": null,
            "justify_items": null,
            "left": null,
            "margin": null,
            "max_height": null,
            "max_width": null,
            "min_height": null,
            "min_width": null,
            "object_fit": null,
            "object_position": null,
            "order": null,
            "overflow": null,
            "overflow_x": null,
            "overflow_y": null,
            "padding": null,
            "right": null,
            "top": null,
            "visibility": null,
            "width": null
          }
        },
        "9be786583965422ba7956b4c8452c1cf": {
          "model_module": "@jupyter-widgets/controls",
          "model_name": "ProgressStyleModel",
          "model_module_version": "1.5.0",
          "state": {
            "_model_module": "@jupyter-widgets/controls",
            "_model_module_version": "1.5.0",
            "_model_name": "ProgressStyleModel",
            "_view_count": null,
            "_view_module": "@jupyter-widgets/base",
            "_view_module_version": "1.2.0",
            "_view_name": "StyleView",
            "bar_color": null,
            "description_width": ""
          }
        },
        "26de68d4beab43f08b902043633b2b3d": {
          "model_module": "@jupyter-widgets/base",
          "model_name": "LayoutModel",
          "model_module_version": "1.2.0",
          "state": {
            "_model_module": "@jupyter-widgets/base",
            "_model_module_version": "1.2.0",
            "_model_name": "LayoutModel",
            "_view_count": null,
            "_view_module": "@jupyter-widgets/base",
            "_view_module_version": "1.2.0",
            "_view_name": "LayoutView",
            "align_content": null,
            "align_items": null,
            "align_self": null,
            "border": null,
            "bottom": null,
            "display": null,
            "flex": null,
            "flex_flow": null,
            "grid_area": null,
            "grid_auto_columns": null,
            "grid_auto_flow": null,
            "grid_auto_rows": null,
            "grid_column": null,
            "grid_gap": null,
            "grid_row": null,
            "grid_template_areas": null,
            "grid_template_columns": null,
            "grid_template_rows": null,
            "height": null,
            "justify_content": null,
            "justify_items": null,
            "left": null,
            "margin": null,
            "max_height": null,
            "max_width": null,
            "min_height": null,
            "min_width": null,
            "object_fit": null,
            "object_position": null,
            "order": null,
            "overflow": null,
            "overflow_x": null,
            "overflow_y": null,
            "padding": null,
            "right": null,
            "top": null,
            "visibility": null,
            "width": null
          }
        },
        "28043597ad834492aa817582aeff5b31": {
          "model_module": "@jupyter-widgets/controls",
          "model_name": "DescriptionStyleModel",
          "model_module_version": "1.5.0",
          "state": {
            "_model_module": "@jupyter-widgets/controls",
            "_model_module_version": "1.5.0",
            "_model_name": "DescriptionStyleModel",
            "_view_count": null,
            "_view_module": "@jupyter-widgets/base",
            "_view_module_version": "1.2.0",
            "_view_name": "StyleView",
            "description_width": ""
          }
        }
      }
    }
  },
  "cells": [
    {
      "cell_type": "code",
      "execution_count": 3,
      "metadata": {
        "colab": {
          "base_uri": "https://localhost:8080/"
        },
        "id": "mRFRCXv3h_sp",
        "outputId": "abb5d932-842d-43e3-bdb3-2e7371457bf3"
      },
      "outputs": [
        {
          "output_type": "stream",
          "name": "stdout",
          "text": [
            "Mounted at /content/drive\n"
          ]
        }
      ],
      "source": [
        "# This mounts your Google Drive to the Colab VM.\n",
        "from google.colab import drive\n",
        "drive.mount('/content/drive')\n",
        "\n",
        "# TODO: Enter the foldername in your Drive where you have saved the unzipped\n",
        "# assignment folder, e.g. 'cs231n/assignments/assignment1/'\n",
        "FOLDERNAME = 'CS6140-Project/data/'\n",
        "assert FOLDERNAME is not None, \"[!] Enter the foldername.\"\n",
        "\n",
        "# Now that we've mounted your Drive, this ensures that\n",
        "# the Python interpreter of the Colab VM can load\n",
        "# python files from within it.\n",
        "import sys\n",
        "sys.path.append('/content/drive/My Drive/{}'.format(FOLDERNAME))"
      ]
    },
    {
      "cell_type": "code",
      "source": [
        "!pip install rouge\n",
        "!pip install nltk\n",
        "!pip install gcsfs\n",
        "!pip install torch torchvision torchaudio\n",
        "!pip install transformers"
      ],
      "metadata": {
        "colab": {
          "base_uri": "https://localhost:8080/"
        },
        "id": "F2ZGh_Ij9Fak",
        "outputId": "1bee8693-79e5-4e69-dc6a-78cf582e4bb5"
      },
      "execution_count": 4,
      "outputs": [
        {
          "output_type": "stream",
          "name": "stdout",
          "text": [
            "Collecting rouge\n",
            "  Downloading rouge-1.0.1-py3-none-any.whl (13 kB)\n",
            "Requirement already satisfied: six in /usr/local/lib/python3.10/dist-packages (from rouge) (1.16.0)\n",
            "Installing collected packages: rouge\n",
            "Successfully installed rouge-1.0.1\n",
            "Requirement already satisfied: nltk in /usr/local/lib/python3.10/dist-packages (3.8.1)\n",
            "Requirement already satisfied: click in /usr/local/lib/python3.10/dist-packages (from nltk) (8.1.7)\n",
            "Requirement already satisfied: joblib in /usr/local/lib/python3.10/dist-packages (from nltk) (1.3.2)\n",
            "Requirement already satisfied: regex>=2021.8.3 in /usr/local/lib/python3.10/dist-packages (from nltk) (2023.6.3)\n",
            "Requirement already satisfied: tqdm in /usr/local/lib/python3.10/dist-packages (from nltk) (4.66.1)\n",
            "Requirement already satisfied: gcsfs in /usr/local/lib/python3.10/dist-packages (2023.6.0)\n",
            "Requirement already satisfied: aiohttp!=4.0.0a0,!=4.0.0a1 in /usr/local/lib/python3.10/dist-packages (from gcsfs) (3.9.1)\n",
            "Requirement already satisfied: decorator>4.1.2 in /usr/local/lib/python3.10/dist-packages (from gcsfs) (4.4.2)\n",
            "Requirement already satisfied: fsspec==2023.6.0 in /usr/local/lib/python3.10/dist-packages (from gcsfs) (2023.6.0)\n",
            "Requirement already satisfied: google-auth>=1.2 in /usr/local/lib/python3.10/dist-packages (from gcsfs) (2.17.3)\n",
            "Requirement already satisfied: google-auth-oauthlib in /usr/local/lib/python3.10/dist-packages (from gcsfs) (1.0.0)\n",
            "Requirement already satisfied: google-cloud-storage in /usr/local/lib/python3.10/dist-packages (from gcsfs) (2.8.0)\n",
            "Requirement already satisfied: requests in /usr/local/lib/python3.10/dist-packages (from gcsfs) (2.31.0)\n",
            "Requirement already satisfied: attrs>=17.3.0 in /usr/local/lib/python3.10/dist-packages (from aiohttp!=4.0.0a0,!=4.0.0a1->gcsfs) (23.1.0)\n",
            "Requirement already satisfied: multidict<7.0,>=4.5 in /usr/local/lib/python3.10/dist-packages (from aiohttp!=4.0.0a0,!=4.0.0a1->gcsfs) (6.0.4)\n",
            "Requirement already satisfied: yarl<2.0,>=1.0 in /usr/local/lib/python3.10/dist-packages (from aiohttp!=4.0.0a0,!=4.0.0a1->gcsfs) (1.9.3)\n",
            "Requirement already satisfied: frozenlist>=1.1.1 in /usr/local/lib/python3.10/dist-packages (from aiohttp!=4.0.0a0,!=4.0.0a1->gcsfs) (1.4.0)\n",
            "Requirement already satisfied: aiosignal>=1.1.2 in /usr/local/lib/python3.10/dist-packages (from aiohttp!=4.0.0a0,!=4.0.0a1->gcsfs) (1.3.1)\n",
            "Requirement already satisfied: async-timeout<5.0,>=4.0 in /usr/local/lib/python3.10/dist-packages (from aiohttp!=4.0.0a0,!=4.0.0a1->gcsfs) (4.0.3)\n",
            "Requirement already satisfied: cachetools<6.0,>=2.0.0 in /usr/local/lib/python3.10/dist-packages (from google-auth>=1.2->gcsfs) (5.3.2)\n",
            "Requirement already satisfied: pyasn1-modules>=0.2.1 in /usr/local/lib/python3.10/dist-packages (from google-auth>=1.2->gcsfs) (0.3.0)\n",
            "Requirement already satisfied: six>=1.9.0 in /usr/local/lib/python3.10/dist-packages (from google-auth>=1.2->gcsfs) (1.16.0)\n",
            "Requirement already satisfied: rsa<5,>=3.1.4 in /usr/local/lib/python3.10/dist-packages (from google-auth>=1.2->gcsfs) (4.9)\n",
            "Requirement already satisfied: requests-oauthlib>=0.7.0 in /usr/local/lib/python3.10/dist-packages (from google-auth-oauthlib->gcsfs) (1.3.1)\n",
            "Requirement already satisfied: google-api-core!=2.0.*,!=2.1.*,!=2.2.*,!=2.3.0,<3.0.0dev,>=1.31.5 in /usr/local/lib/python3.10/dist-packages (from google-cloud-storage->gcsfs) (2.11.1)\n",
            "Requirement already satisfied: google-cloud-core<3.0dev,>=2.3.0 in /usr/local/lib/python3.10/dist-packages (from google-cloud-storage->gcsfs) (2.3.3)\n",
            "Requirement already satisfied: google-resumable-media>=2.3.2 in /usr/local/lib/python3.10/dist-packages (from google-cloud-storage->gcsfs) (2.6.0)\n",
            "Requirement already satisfied: charset-normalizer<4,>=2 in /usr/local/lib/python3.10/dist-packages (from requests->gcsfs) (3.3.2)\n",
            "Requirement already satisfied: idna<4,>=2.5 in /usr/local/lib/python3.10/dist-packages (from requests->gcsfs) (3.6)\n",
            "Requirement already satisfied: urllib3<3,>=1.21.1 in /usr/local/lib/python3.10/dist-packages (from requests->gcsfs) (2.0.7)\n",
            "Requirement already satisfied: certifi>=2017.4.17 in /usr/local/lib/python3.10/dist-packages (from requests->gcsfs) (2023.11.17)\n",
            "Requirement already satisfied: googleapis-common-protos<2.0.dev0,>=1.56.2 in /usr/local/lib/python3.10/dist-packages (from google-api-core!=2.0.*,!=2.1.*,!=2.2.*,!=2.3.0,<3.0.0dev,>=1.31.5->google-cloud-storage->gcsfs) (1.61.0)\n",
            "Requirement already satisfied: protobuf!=3.20.0,!=3.20.1,!=4.21.0,!=4.21.1,!=4.21.2,!=4.21.3,!=4.21.4,!=4.21.5,<5.0.0.dev0,>=3.19.5 in /usr/local/lib/python3.10/dist-packages (from google-api-core!=2.0.*,!=2.1.*,!=2.2.*,!=2.3.0,<3.0.0dev,>=1.31.5->google-cloud-storage->gcsfs) (3.20.3)\n",
            "Requirement already satisfied: google-crc32c<2.0dev,>=1.0 in /usr/local/lib/python3.10/dist-packages (from google-resumable-media>=2.3.2->google-cloud-storage->gcsfs) (1.5.0)\n",
            "Requirement already satisfied: pyasn1<0.6.0,>=0.4.6 in /usr/local/lib/python3.10/dist-packages (from pyasn1-modules>=0.2.1->google-auth>=1.2->gcsfs) (0.5.1)\n",
            "Requirement already satisfied: oauthlib>=3.0.0 in /usr/local/lib/python3.10/dist-packages (from requests-oauthlib>=0.7.0->google-auth-oauthlib->gcsfs) (3.2.2)\n",
            "Requirement already satisfied: torch in /usr/local/lib/python3.10/dist-packages (2.1.0+cu118)\n",
            "Requirement already satisfied: torchvision in /usr/local/lib/python3.10/dist-packages (0.16.0+cu118)\n",
            "Requirement already satisfied: torchaudio in /usr/local/lib/python3.10/dist-packages (2.1.0+cu118)\n",
            "Requirement already satisfied: filelock in /usr/local/lib/python3.10/dist-packages (from torch) (3.13.1)\n",
            "Requirement already satisfied: typing-extensions in /usr/local/lib/python3.10/dist-packages (from torch) (4.5.0)\n",
            "Requirement already satisfied: sympy in /usr/local/lib/python3.10/dist-packages (from torch) (1.12)\n",
            "Requirement already satisfied: networkx in /usr/local/lib/python3.10/dist-packages (from torch) (3.2.1)\n",
            "Requirement already satisfied: jinja2 in /usr/local/lib/python3.10/dist-packages (from torch) (3.1.2)\n",
            "Requirement already satisfied: fsspec in /usr/local/lib/python3.10/dist-packages (from torch) (2023.6.0)\n",
            "Requirement already satisfied: triton==2.1.0 in /usr/local/lib/python3.10/dist-packages (from torch) (2.1.0)\n",
            "Requirement already satisfied: numpy in /usr/local/lib/python3.10/dist-packages (from torchvision) (1.23.5)\n",
            "Requirement already satisfied: requests in /usr/local/lib/python3.10/dist-packages (from torchvision) (2.31.0)\n",
            "Requirement already satisfied: pillow!=8.3.*,>=5.3.0 in /usr/local/lib/python3.10/dist-packages (from torchvision) (9.4.0)\n",
            "Requirement already satisfied: MarkupSafe>=2.0 in /usr/local/lib/python3.10/dist-packages (from jinja2->torch) (2.1.3)\n",
            "Requirement already satisfied: charset-normalizer<4,>=2 in /usr/local/lib/python3.10/dist-packages (from requests->torchvision) (3.3.2)\n",
            "Requirement already satisfied: idna<4,>=2.5 in /usr/local/lib/python3.10/dist-packages (from requests->torchvision) (3.6)\n",
            "Requirement already satisfied: urllib3<3,>=1.21.1 in /usr/local/lib/python3.10/dist-packages (from requests->torchvision) (2.0.7)\n",
            "Requirement already satisfied: certifi>=2017.4.17 in /usr/local/lib/python3.10/dist-packages (from requests->torchvision) (2023.11.17)\n",
            "Requirement already satisfied: mpmath>=0.19 in /usr/local/lib/python3.10/dist-packages (from sympy->torch) (1.3.0)\n",
            "Requirement already satisfied: transformers in /usr/local/lib/python3.10/dist-packages (4.35.2)\n",
            "Requirement already satisfied: filelock in /usr/local/lib/python3.10/dist-packages (from transformers) (3.13.1)\n",
            "Requirement already satisfied: huggingface-hub<1.0,>=0.16.4 in /usr/local/lib/python3.10/dist-packages (from transformers) (0.19.4)\n",
            "Requirement already satisfied: numpy>=1.17 in /usr/local/lib/python3.10/dist-packages (from transformers) (1.23.5)\n",
            "Requirement already satisfied: packaging>=20.0 in /usr/local/lib/python3.10/dist-packages (from transformers) (23.2)\n",
            "Requirement already satisfied: pyyaml>=5.1 in /usr/local/lib/python3.10/dist-packages (from transformers) (6.0.1)\n",
            "Requirement already satisfied: regex!=2019.12.17 in /usr/local/lib/python3.10/dist-packages (from transformers) (2023.6.3)\n",
            "Requirement already satisfied: requests in /usr/local/lib/python3.10/dist-packages (from transformers) (2.31.0)\n",
            "Requirement already satisfied: tokenizers<0.19,>=0.14 in /usr/local/lib/python3.10/dist-packages (from transformers) (0.15.0)\n",
            "Requirement already satisfied: safetensors>=0.3.1 in /usr/local/lib/python3.10/dist-packages (from transformers) (0.4.1)\n",
            "Requirement already satisfied: tqdm>=4.27 in /usr/local/lib/python3.10/dist-packages (from transformers) (4.66.1)\n",
            "Requirement already satisfied: fsspec>=2023.5.0 in /usr/local/lib/python3.10/dist-packages (from huggingface-hub<1.0,>=0.16.4->transformers) (2023.6.0)\n",
            "Requirement already satisfied: typing-extensions>=3.7.4.3 in /usr/local/lib/python3.10/dist-packages (from huggingface-hub<1.0,>=0.16.4->transformers) (4.5.0)\n",
            "Requirement already satisfied: charset-normalizer<4,>=2 in /usr/local/lib/python3.10/dist-packages (from requests->transformers) (3.3.2)\n",
            "Requirement already satisfied: idna<4,>=2.5 in /usr/local/lib/python3.10/dist-packages (from requests->transformers) (3.6)\n",
            "Requirement already satisfied: urllib3<3,>=1.21.1 in /usr/local/lib/python3.10/dist-packages (from requests->transformers) (2.0.7)\n",
            "Requirement already satisfied: certifi>=2017.4.17 in /usr/local/lib/python3.10/dist-packages (from requests->transformers) (2023.11.17)\n"
          ]
        }
      ]
    },
    {
      "cell_type": "code",
      "source": [
        "import pandas as pd\n",
        "import numpy as np\n",
        "from matplotlib import pyplot as plt\n",
        "import seaborn as sns\n",
        "from sklearn.feature_extraction.text import TfidfVectorizer\n",
        "from sklearn.metrics.pairwise import cosine_similarity\n",
        "import nltk\n",
        "from nltk.corpus import stopwords\n",
        "from nltk.tokenize import word_tokenize, sent_tokenize\n",
        "import string\n",
        "import networkx as nx\n",
        "import re\n",
        "from rouge import Rouge\n",
        "from itertools import product"
      ],
      "metadata": {
        "id": "yNVqZ2RZ06Ya"
      },
      "execution_count": 5,
      "outputs": []
    },
    {
      "cell_type": "code",
      "source": [
        "train_df = pd.read_csv('/content/drive/My Drive/' + FOLDERNAME + 'samsum-train.csv')\n",
        "test_df = pd.read_csv('/content/drive/My Drive/' + FOLDERNAME + 'samsum-test.csv')\n",
        "validation_df = pd.read_csv('/content/drive/My Drive/' + FOLDERNAME + 'samsum-validation.csv')"
      ],
      "metadata": {
        "id": "kgNBnLtHqDRB"
      },
      "execution_count": 6,
      "outputs": []
    },
    {
      "cell_type": "code",
      "source": [
        "train_df.head()"
      ],
      "metadata": {
        "colab": {
          "base_uri": "https://localhost:8080/",
          "height": 206
        },
        "id": "aXAmkAGYqDcQ",
        "outputId": "16244e78-a7dc-484b-b90e-3b04e32590e1"
      },
      "execution_count": 7,
      "outputs": [
        {
          "output_type": "execute_result",
          "data": {
            "text/plain": [
              "         id                                           dialogue  \\\n",
              "0  13818513  Amanda: I baked  cookies. Do you want some?\\r\\...   \n",
              "1  13728867  Olivia: Who are you voting for in this electio...   \n",
              "2  13681000  Tim: Hi, what's up?\\r\\nKim: Bad mood tbh, I wa...   \n",
              "3  13730747  Edward: Rachel, I think I'm in ove with Bella....   \n",
              "4  13728094  Sam: hey  overheard rick say something\\r\\nSam:...   \n",
              "\n",
              "                                             summary  \n",
              "0  Amanda baked cookies and will bring Jerry some...  \n",
              "1  Olivia and Olivier are voting for liberals in ...  \n",
              "2  Kim may try the pomodoro technique recommended...  \n",
              "3  Edward thinks he is in love with Bella. Rachel...  \n",
              "4  Sam is confused, because he overheard Rick com...  "
            ],
            "text/html": [
              "\n",
              "  <div id=\"df-688b2769-69b5-4937-81f1-cede5b2a01cd\" class=\"colab-df-container\">\n",
              "    <div>\n",
              "<style scoped>\n",
              "    .dataframe tbody tr th:only-of-type {\n",
              "        vertical-align: middle;\n",
              "    }\n",
              "\n",
              "    .dataframe tbody tr th {\n",
              "        vertical-align: top;\n",
              "    }\n",
              "\n",
              "    .dataframe thead th {\n",
              "        text-align: right;\n",
              "    }\n",
              "</style>\n",
              "<table border=\"1\" class=\"dataframe\">\n",
              "  <thead>\n",
              "    <tr style=\"text-align: right;\">\n",
              "      <th></th>\n",
              "      <th>id</th>\n",
              "      <th>dialogue</th>\n",
              "      <th>summary</th>\n",
              "    </tr>\n",
              "  </thead>\n",
              "  <tbody>\n",
              "    <tr>\n",
              "      <th>0</th>\n",
              "      <td>13818513</td>\n",
              "      <td>Amanda: I baked  cookies. Do you want some?\\r\\...</td>\n",
              "      <td>Amanda baked cookies and will bring Jerry some...</td>\n",
              "    </tr>\n",
              "    <tr>\n",
              "      <th>1</th>\n",
              "      <td>13728867</td>\n",
              "      <td>Olivia: Who are you voting for in this electio...</td>\n",
              "      <td>Olivia and Olivier are voting for liberals in ...</td>\n",
              "    </tr>\n",
              "    <tr>\n",
              "      <th>2</th>\n",
              "      <td>13681000</td>\n",
              "      <td>Tim: Hi, what's up?\\r\\nKim: Bad mood tbh, I wa...</td>\n",
              "      <td>Kim may try the pomodoro technique recommended...</td>\n",
              "    </tr>\n",
              "    <tr>\n",
              "      <th>3</th>\n",
              "      <td>13730747</td>\n",
              "      <td>Edward: Rachel, I think I'm in ove with Bella....</td>\n",
              "      <td>Edward thinks he is in love with Bella. Rachel...</td>\n",
              "    </tr>\n",
              "    <tr>\n",
              "      <th>4</th>\n",
              "      <td>13728094</td>\n",
              "      <td>Sam: hey  overheard rick say something\\r\\nSam:...</td>\n",
              "      <td>Sam is confused, because he overheard Rick com...</td>\n",
              "    </tr>\n",
              "  </tbody>\n",
              "</table>\n",
              "</div>\n",
              "    <div class=\"colab-df-buttons\">\n",
              "\n",
              "  <div class=\"colab-df-container\">\n",
              "    <button class=\"colab-df-convert\" onclick=\"convertToInteractive('df-688b2769-69b5-4937-81f1-cede5b2a01cd')\"\n",
              "            title=\"Convert this dataframe to an interactive table.\"\n",
              "            style=\"display:none;\">\n",
              "\n",
              "  <svg xmlns=\"http://www.w3.org/2000/svg\" height=\"24px\" viewBox=\"0 -960 960 960\">\n",
              "    <path d=\"M120-120v-720h720v720H120Zm60-500h600v-160H180v160Zm220 220h160v-160H400v160Zm0 220h160v-160H400v160ZM180-400h160v-160H180v160Zm440 0h160v-160H620v160ZM180-180h160v-160H180v160Zm440 0h160v-160H620v160Z\"/>\n",
              "  </svg>\n",
              "    </button>\n",
              "\n",
              "  <style>\n",
              "    .colab-df-container {\n",
              "      display:flex;\n",
              "      gap: 12px;\n",
              "    }\n",
              "\n",
              "    .colab-df-convert {\n",
              "      background-color: #E8F0FE;\n",
              "      border: none;\n",
              "      border-radius: 50%;\n",
              "      cursor: pointer;\n",
              "      display: none;\n",
              "      fill: #1967D2;\n",
              "      height: 32px;\n",
              "      padding: 0 0 0 0;\n",
              "      width: 32px;\n",
              "    }\n",
              "\n",
              "    .colab-df-convert:hover {\n",
              "      background-color: #E2EBFA;\n",
              "      box-shadow: 0px 1px 2px rgba(60, 64, 67, 0.3), 0px 1px 3px 1px rgba(60, 64, 67, 0.15);\n",
              "      fill: #174EA6;\n",
              "    }\n",
              "\n",
              "    .colab-df-buttons div {\n",
              "      margin-bottom: 4px;\n",
              "    }\n",
              "\n",
              "    [theme=dark] .colab-df-convert {\n",
              "      background-color: #3B4455;\n",
              "      fill: #D2E3FC;\n",
              "    }\n",
              "\n",
              "    [theme=dark] .colab-df-convert:hover {\n",
              "      background-color: #434B5C;\n",
              "      box-shadow: 0px 1px 3px 1px rgba(0, 0, 0, 0.15);\n",
              "      filter: drop-shadow(0px 1px 2px rgba(0, 0, 0, 0.3));\n",
              "      fill: #FFFFFF;\n",
              "    }\n",
              "  </style>\n",
              "\n",
              "    <script>\n",
              "      const buttonEl =\n",
              "        document.querySelector('#df-688b2769-69b5-4937-81f1-cede5b2a01cd button.colab-df-convert');\n",
              "      buttonEl.style.display =\n",
              "        google.colab.kernel.accessAllowed ? 'block' : 'none';\n",
              "\n",
              "      async function convertToInteractive(key) {\n",
              "        const element = document.querySelector('#df-688b2769-69b5-4937-81f1-cede5b2a01cd');\n",
              "        const dataTable =\n",
              "          await google.colab.kernel.invokeFunction('convertToInteractive',\n",
              "                                                    [key], {});\n",
              "        if (!dataTable) return;\n",
              "\n",
              "        const docLinkHtml = 'Like what you see? Visit the ' +\n",
              "          '<a target=\"_blank\" href=https://colab.research.google.com/notebooks/data_table.ipynb>data table notebook</a>'\n",
              "          + ' to learn more about interactive tables.';\n",
              "        element.innerHTML = '';\n",
              "        dataTable['output_type'] = 'display_data';\n",
              "        await google.colab.output.renderOutput(dataTable, element);\n",
              "        const docLink = document.createElement('div');\n",
              "        docLink.innerHTML = docLinkHtml;\n",
              "        element.appendChild(docLink);\n",
              "      }\n",
              "    </script>\n",
              "  </div>\n",
              "\n",
              "\n",
              "<div id=\"df-154835cb-d436-4864-8fb6-e1f8d6a9848f\">\n",
              "  <button class=\"colab-df-quickchart\" onclick=\"quickchart('df-154835cb-d436-4864-8fb6-e1f8d6a9848f')\"\n",
              "            title=\"Suggest charts\"\n",
              "            style=\"display:none;\">\n",
              "\n",
              "<svg xmlns=\"http://www.w3.org/2000/svg\" height=\"24px\"viewBox=\"0 0 24 24\"\n",
              "     width=\"24px\">\n",
              "    <g>\n",
              "        <path d=\"M19 3H5c-1.1 0-2 .9-2 2v14c0 1.1.9 2 2 2h14c1.1 0 2-.9 2-2V5c0-1.1-.9-2-2-2zM9 17H7v-7h2v7zm4 0h-2V7h2v10zm4 0h-2v-4h2v4z\"/>\n",
              "    </g>\n",
              "</svg>\n",
              "  </button>\n",
              "\n",
              "<style>\n",
              "  .colab-df-quickchart {\n",
              "      --bg-color: #E8F0FE;\n",
              "      --fill-color: #1967D2;\n",
              "      --hover-bg-color: #E2EBFA;\n",
              "      --hover-fill-color: #174EA6;\n",
              "      --disabled-fill-color: #AAA;\n",
              "      --disabled-bg-color: #DDD;\n",
              "  }\n",
              "\n",
              "  [theme=dark] .colab-df-quickchart {\n",
              "      --bg-color: #3B4455;\n",
              "      --fill-color: #D2E3FC;\n",
              "      --hover-bg-color: #434B5C;\n",
              "      --hover-fill-color: #FFFFFF;\n",
              "      --disabled-bg-color: #3B4455;\n",
              "      --disabled-fill-color: #666;\n",
              "  }\n",
              "\n",
              "  .colab-df-quickchart {\n",
              "    background-color: var(--bg-color);\n",
              "    border: none;\n",
              "    border-radius: 50%;\n",
              "    cursor: pointer;\n",
              "    display: none;\n",
              "    fill: var(--fill-color);\n",
              "    height: 32px;\n",
              "    padding: 0;\n",
              "    width: 32px;\n",
              "  }\n",
              "\n",
              "  .colab-df-quickchart:hover {\n",
              "    background-color: var(--hover-bg-color);\n",
              "    box-shadow: 0 1px 2px rgba(60, 64, 67, 0.3), 0 1px 3px 1px rgba(60, 64, 67, 0.15);\n",
              "    fill: var(--button-hover-fill-color);\n",
              "  }\n",
              "\n",
              "  .colab-df-quickchart-complete:disabled,\n",
              "  .colab-df-quickchart-complete:disabled:hover {\n",
              "    background-color: var(--disabled-bg-color);\n",
              "    fill: var(--disabled-fill-color);\n",
              "    box-shadow: none;\n",
              "  }\n",
              "\n",
              "  .colab-df-spinner {\n",
              "    border: 2px solid var(--fill-color);\n",
              "    border-color: transparent;\n",
              "    border-bottom-color: var(--fill-color);\n",
              "    animation:\n",
              "      spin 1s steps(1) infinite;\n",
              "  }\n",
              "\n",
              "  @keyframes spin {\n",
              "    0% {\n",
              "      border-color: transparent;\n",
              "      border-bottom-color: var(--fill-color);\n",
              "      border-left-color: var(--fill-color);\n",
              "    }\n",
              "    20% {\n",
              "      border-color: transparent;\n",
              "      border-left-color: var(--fill-color);\n",
              "      border-top-color: var(--fill-color);\n",
              "    }\n",
              "    30% {\n",
              "      border-color: transparent;\n",
              "      border-left-color: var(--fill-color);\n",
              "      border-top-color: var(--fill-color);\n",
              "      border-right-color: var(--fill-color);\n",
              "    }\n",
              "    40% {\n",
              "      border-color: transparent;\n",
              "      border-right-color: var(--fill-color);\n",
              "      border-top-color: var(--fill-color);\n",
              "    }\n",
              "    60% {\n",
              "      border-color: transparent;\n",
              "      border-right-color: var(--fill-color);\n",
              "    }\n",
              "    80% {\n",
              "      border-color: transparent;\n",
              "      border-right-color: var(--fill-color);\n",
              "      border-bottom-color: var(--fill-color);\n",
              "    }\n",
              "    90% {\n",
              "      border-color: transparent;\n",
              "      border-bottom-color: var(--fill-color);\n",
              "    }\n",
              "  }\n",
              "</style>\n",
              "\n",
              "  <script>\n",
              "    async function quickchart(key) {\n",
              "      const quickchartButtonEl =\n",
              "        document.querySelector('#' + key + ' button');\n",
              "      quickchartButtonEl.disabled = true;  // To prevent multiple clicks.\n",
              "      quickchartButtonEl.classList.add('colab-df-spinner');\n",
              "      try {\n",
              "        const charts = await google.colab.kernel.invokeFunction(\n",
              "            'suggestCharts', [key], {});\n",
              "      } catch (error) {\n",
              "        console.error('Error during call to suggestCharts:', error);\n",
              "      }\n",
              "      quickchartButtonEl.classList.remove('colab-df-spinner');\n",
              "      quickchartButtonEl.classList.add('colab-df-quickchart-complete');\n",
              "    }\n",
              "    (() => {\n",
              "      let quickchartButtonEl =\n",
              "        document.querySelector('#df-154835cb-d436-4864-8fb6-e1f8d6a9848f button');\n",
              "      quickchartButtonEl.style.display =\n",
              "        google.colab.kernel.accessAllowed ? 'block' : 'none';\n",
              "    })();\n",
              "  </script>\n",
              "</div>\n",
              "    </div>\n",
              "  </div>\n"
            ]
          },
          "metadata": {},
          "execution_count": 7
        }
      ]
    },
    {
      "cell_type": "code",
      "source": [
        "validation_df.head()"
      ],
      "metadata": {
        "colab": {
          "base_uri": "https://localhost:8080/",
          "height": 206
        },
        "id": "hzaa9L-hylla",
        "outputId": "1ea95a09-55a6-4114-a074-78b449d848ff"
      },
      "execution_count": 8,
      "outputs": [
        {
          "output_type": "execute_result",
          "data": {
            "text/plain": [
              "         id                                           dialogue  \\\n",
              "0  13817023  A: Hi Tom, are you busy tomorrow’s afternoon?\\...   \n",
              "1  13716628  Emma: I’ve just fallen in love with this adven...   \n",
              "2  13829420  Jackie: Madison is pregnant\\r\\nJackie: but she...   \n",
              "3  13819648  Marla: <file_photo>\\r\\nMarla: look what I foun...   \n",
              "4  13728448  Robert: Hey give me the address of this music ...   \n",
              "\n",
              "                                             summary  \n",
              "0  A will go to the animal shelter tomorrow to ge...  \n",
              "1  Emma and Rob love the advent calendar. Lauren ...  \n",
              "2  Madison is pregnant but she doesn't want to ta...  \n",
              "3        Marla found a pair of boxers under her bed.  \n",
              "4  Robert wants Fred to send him the address of t...  "
            ],
            "text/html": [
              "\n",
              "  <div id=\"df-7800e236-cf8d-42d1-a4d8-33449b22a2a2\" class=\"colab-df-container\">\n",
              "    <div>\n",
              "<style scoped>\n",
              "    .dataframe tbody tr th:only-of-type {\n",
              "        vertical-align: middle;\n",
              "    }\n",
              "\n",
              "    .dataframe tbody tr th {\n",
              "        vertical-align: top;\n",
              "    }\n",
              "\n",
              "    .dataframe thead th {\n",
              "        text-align: right;\n",
              "    }\n",
              "</style>\n",
              "<table border=\"1\" class=\"dataframe\">\n",
              "  <thead>\n",
              "    <tr style=\"text-align: right;\">\n",
              "      <th></th>\n",
              "      <th>id</th>\n",
              "      <th>dialogue</th>\n",
              "      <th>summary</th>\n",
              "    </tr>\n",
              "  </thead>\n",
              "  <tbody>\n",
              "    <tr>\n",
              "      <th>0</th>\n",
              "      <td>13817023</td>\n",
              "      <td>A: Hi Tom, are you busy tomorrow’s afternoon?\\...</td>\n",
              "      <td>A will go to the animal shelter tomorrow to ge...</td>\n",
              "    </tr>\n",
              "    <tr>\n",
              "      <th>1</th>\n",
              "      <td>13716628</td>\n",
              "      <td>Emma: I’ve just fallen in love with this adven...</td>\n",
              "      <td>Emma and Rob love the advent calendar. Lauren ...</td>\n",
              "    </tr>\n",
              "    <tr>\n",
              "      <th>2</th>\n",
              "      <td>13829420</td>\n",
              "      <td>Jackie: Madison is pregnant\\r\\nJackie: but she...</td>\n",
              "      <td>Madison is pregnant but she doesn't want to ta...</td>\n",
              "    </tr>\n",
              "    <tr>\n",
              "      <th>3</th>\n",
              "      <td>13819648</td>\n",
              "      <td>Marla: &lt;file_photo&gt;\\r\\nMarla: look what I foun...</td>\n",
              "      <td>Marla found a pair of boxers under her bed.</td>\n",
              "    </tr>\n",
              "    <tr>\n",
              "      <th>4</th>\n",
              "      <td>13728448</td>\n",
              "      <td>Robert: Hey give me the address of this music ...</td>\n",
              "      <td>Robert wants Fred to send him the address of t...</td>\n",
              "    </tr>\n",
              "  </tbody>\n",
              "</table>\n",
              "</div>\n",
              "    <div class=\"colab-df-buttons\">\n",
              "\n",
              "  <div class=\"colab-df-container\">\n",
              "    <button class=\"colab-df-convert\" onclick=\"convertToInteractive('df-7800e236-cf8d-42d1-a4d8-33449b22a2a2')\"\n",
              "            title=\"Convert this dataframe to an interactive table.\"\n",
              "            style=\"display:none;\">\n",
              "\n",
              "  <svg xmlns=\"http://www.w3.org/2000/svg\" height=\"24px\" viewBox=\"0 -960 960 960\">\n",
              "    <path d=\"M120-120v-720h720v720H120Zm60-500h600v-160H180v160Zm220 220h160v-160H400v160Zm0 220h160v-160H400v160ZM180-400h160v-160H180v160Zm440 0h160v-160H620v160ZM180-180h160v-160H180v160Zm440 0h160v-160H620v160Z\"/>\n",
              "  </svg>\n",
              "    </button>\n",
              "\n",
              "  <style>\n",
              "    .colab-df-container {\n",
              "      display:flex;\n",
              "      gap: 12px;\n",
              "    }\n",
              "\n",
              "    .colab-df-convert {\n",
              "      background-color: #E8F0FE;\n",
              "      border: none;\n",
              "      border-radius: 50%;\n",
              "      cursor: pointer;\n",
              "      display: none;\n",
              "      fill: #1967D2;\n",
              "      height: 32px;\n",
              "      padding: 0 0 0 0;\n",
              "      width: 32px;\n",
              "    }\n",
              "\n",
              "    .colab-df-convert:hover {\n",
              "      background-color: #E2EBFA;\n",
              "      box-shadow: 0px 1px 2px rgba(60, 64, 67, 0.3), 0px 1px 3px 1px rgba(60, 64, 67, 0.15);\n",
              "      fill: #174EA6;\n",
              "    }\n",
              "\n",
              "    .colab-df-buttons div {\n",
              "      margin-bottom: 4px;\n",
              "    }\n",
              "\n",
              "    [theme=dark] .colab-df-convert {\n",
              "      background-color: #3B4455;\n",
              "      fill: #D2E3FC;\n",
              "    }\n",
              "\n",
              "    [theme=dark] .colab-df-convert:hover {\n",
              "      background-color: #434B5C;\n",
              "      box-shadow: 0px 1px 3px 1px rgba(0, 0, 0, 0.15);\n",
              "      filter: drop-shadow(0px 1px 2px rgba(0, 0, 0, 0.3));\n",
              "      fill: #FFFFFF;\n",
              "    }\n",
              "  </style>\n",
              "\n",
              "    <script>\n",
              "      const buttonEl =\n",
              "        document.querySelector('#df-7800e236-cf8d-42d1-a4d8-33449b22a2a2 button.colab-df-convert');\n",
              "      buttonEl.style.display =\n",
              "        google.colab.kernel.accessAllowed ? 'block' : 'none';\n",
              "\n",
              "      async function convertToInteractive(key) {\n",
              "        const element = document.querySelector('#df-7800e236-cf8d-42d1-a4d8-33449b22a2a2');\n",
              "        const dataTable =\n",
              "          await google.colab.kernel.invokeFunction('convertToInteractive',\n",
              "                                                    [key], {});\n",
              "        if (!dataTable) return;\n",
              "\n",
              "        const docLinkHtml = 'Like what you see? Visit the ' +\n",
              "          '<a target=\"_blank\" href=https://colab.research.google.com/notebooks/data_table.ipynb>data table notebook</a>'\n",
              "          + ' to learn more about interactive tables.';\n",
              "        element.innerHTML = '';\n",
              "        dataTable['output_type'] = 'display_data';\n",
              "        await google.colab.output.renderOutput(dataTable, element);\n",
              "        const docLink = document.createElement('div');\n",
              "        docLink.innerHTML = docLinkHtml;\n",
              "        element.appendChild(docLink);\n",
              "      }\n",
              "    </script>\n",
              "  </div>\n",
              "\n",
              "\n",
              "<div id=\"df-b920a780-cc55-4be7-b453-cf3c5f47dd24\">\n",
              "  <button class=\"colab-df-quickchart\" onclick=\"quickchart('df-b920a780-cc55-4be7-b453-cf3c5f47dd24')\"\n",
              "            title=\"Suggest charts\"\n",
              "            style=\"display:none;\">\n",
              "\n",
              "<svg xmlns=\"http://www.w3.org/2000/svg\" height=\"24px\"viewBox=\"0 0 24 24\"\n",
              "     width=\"24px\">\n",
              "    <g>\n",
              "        <path d=\"M19 3H5c-1.1 0-2 .9-2 2v14c0 1.1.9 2 2 2h14c1.1 0 2-.9 2-2V5c0-1.1-.9-2-2-2zM9 17H7v-7h2v7zm4 0h-2V7h2v10zm4 0h-2v-4h2v4z\"/>\n",
              "    </g>\n",
              "</svg>\n",
              "  </button>\n",
              "\n",
              "<style>\n",
              "  .colab-df-quickchart {\n",
              "      --bg-color: #E8F0FE;\n",
              "      --fill-color: #1967D2;\n",
              "      --hover-bg-color: #E2EBFA;\n",
              "      --hover-fill-color: #174EA6;\n",
              "      --disabled-fill-color: #AAA;\n",
              "      --disabled-bg-color: #DDD;\n",
              "  }\n",
              "\n",
              "  [theme=dark] .colab-df-quickchart {\n",
              "      --bg-color: #3B4455;\n",
              "      --fill-color: #D2E3FC;\n",
              "      --hover-bg-color: #434B5C;\n",
              "      --hover-fill-color: #FFFFFF;\n",
              "      --disabled-bg-color: #3B4455;\n",
              "      --disabled-fill-color: #666;\n",
              "  }\n",
              "\n",
              "  .colab-df-quickchart {\n",
              "    background-color: var(--bg-color);\n",
              "    border: none;\n",
              "    border-radius: 50%;\n",
              "    cursor: pointer;\n",
              "    display: none;\n",
              "    fill: var(--fill-color);\n",
              "    height: 32px;\n",
              "    padding: 0;\n",
              "    width: 32px;\n",
              "  }\n",
              "\n",
              "  .colab-df-quickchart:hover {\n",
              "    background-color: var(--hover-bg-color);\n",
              "    box-shadow: 0 1px 2px rgba(60, 64, 67, 0.3), 0 1px 3px 1px rgba(60, 64, 67, 0.15);\n",
              "    fill: var(--button-hover-fill-color);\n",
              "  }\n",
              "\n",
              "  .colab-df-quickchart-complete:disabled,\n",
              "  .colab-df-quickchart-complete:disabled:hover {\n",
              "    background-color: var(--disabled-bg-color);\n",
              "    fill: var(--disabled-fill-color);\n",
              "    box-shadow: none;\n",
              "  }\n",
              "\n",
              "  .colab-df-spinner {\n",
              "    border: 2px solid var(--fill-color);\n",
              "    border-color: transparent;\n",
              "    border-bottom-color: var(--fill-color);\n",
              "    animation:\n",
              "      spin 1s steps(1) infinite;\n",
              "  }\n",
              "\n",
              "  @keyframes spin {\n",
              "    0% {\n",
              "      border-color: transparent;\n",
              "      border-bottom-color: var(--fill-color);\n",
              "      border-left-color: var(--fill-color);\n",
              "    }\n",
              "    20% {\n",
              "      border-color: transparent;\n",
              "      border-left-color: var(--fill-color);\n",
              "      border-top-color: var(--fill-color);\n",
              "    }\n",
              "    30% {\n",
              "      border-color: transparent;\n",
              "      border-left-color: var(--fill-color);\n",
              "      border-top-color: var(--fill-color);\n",
              "      border-right-color: var(--fill-color);\n",
              "    }\n",
              "    40% {\n",
              "      border-color: transparent;\n",
              "      border-right-color: var(--fill-color);\n",
              "      border-top-color: var(--fill-color);\n",
              "    }\n",
              "    60% {\n",
              "      border-color: transparent;\n",
              "      border-right-color: var(--fill-color);\n",
              "    }\n",
              "    80% {\n",
              "      border-color: transparent;\n",
              "      border-right-color: var(--fill-color);\n",
              "      border-bottom-color: var(--fill-color);\n",
              "    }\n",
              "    90% {\n",
              "      border-color: transparent;\n",
              "      border-bottom-color: var(--fill-color);\n",
              "    }\n",
              "  }\n",
              "</style>\n",
              "\n",
              "  <script>\n",
              "    async function quickchart(key) {\n",
              "      const quickchartButtonEl =\n",
              "        document.querySelector('#' + key + ' button');\n",
              "      quickchartButtonEl.disabled = true;  // To prevent multiple clicks.\n",
              "      quickchartButtonEl.classList.add('colab-df-spinner');\n",
              "      try {\n",
              "        const charts = await google.colab.kernel.invokeFunction(\n",
              "            'suggestCharts', [key], {});\n",
              "      } catch (error) {\n",
              "        console.error('Error during call to suggestCharts:', error);\n",
              "      }\n",
              "      quickchartButtonEl.classList.remove('colab-df-spinner');\n",
              "      quickchartButtonEl.classList.add('colab-df-quickchart-complete');\n",
              "    }\n",
              "    (() => {\n",
              "      let quickchartButtonEl =\n",
              "        document.querySelector('#df-b920a780-cc55-4be7-b453-cf3c5f47dd24 button');\n",
              "      quickchartButtonEl.style.display =\n",
              "        google.colab.kernel.accessAllowed ? 'block' : 'none';\n",
              "    })();\n",
              "  </script>\n",
              "</div>\n",
              "    </div>\n",
              "  </div>\n"
            ]
          },
          "metadata": {},
          "execution_count": 8
        }
      ]
    },
    {
      "cell_type": "code",
      "source": [
        "test_df.head()"
      ],
      "metadata": {
        "colab": {
          "base_uri": "https://localhost:8080/",
          "height": 206
        },
        "id": "uCEr7brsynOu",
        "outputId": "1494effe-411d-4cca-c7de-919004a4cc27"
      },
      "execution_count": 9,
      "outputs": [
        {
          "output_type": "execute_result",
          "data": {
            "text/plain": [
              "         id                                           dialogue  \\\n",
              "0  13862856  Hannah: Hey, do you have Betty's number?\\nAman...   \n",
              "1  13729565  Eric: MACHINE!\\r\\nRob: That's so gr8!\\r\\nEric:...   \n",
              "2  13680171  Lenny: Babe, can you help me with something?\\r...   \n",
              "3  13729438  Will: hey babe, what do you want for dinner to...   \n",
              "4  13828600  Ollie: Hi , are you in Warsaw\\r\\nJane: yes, ju...   \n",
              "\n",
              "                                             summary  \n",
              "0  Hannah needs Betty's number but Amanda doesn't...  \n",
              "1  Eric and Rob are going to watch a stand-up on ...  \n",
              "2  Lenny can't decide which trousers to buy. Bob ...  \n",
              "3  Emma will be home soon and she will let Will k...  \n",
              "4  Jane is in Warsaw. Ollie and Jane has a party....  "
            ],
            "text/html": [
              "\n",
              "  <div id=\"df-a01088e2-21d2-4c95-a4a8-cd36dff5d1f5\" class=\"colab-df-container\">\n",
              "    <div>\n",
              "<style scoped>\n",
              "    .dataframe tbody tr th:only-of-type {\n",
              "        vertical-align: middle;\n",
              "    }\n",
              "\n",
              "    .dataframe tbody tr th {\n",
              "        vertical-align: top;\n",
              "    }\n",
              "\n",
              "    .dataframe thead th {\n",
              "        text-align: right;\n",
              "    }\n",
              "</style>\n",
              "<table border=\"1\" class=\"dataframe\">\n",
              "  <thead>\n",
              "    <tr style=\"text-align: right;\">\n",
              "      <th></th>\n",
              "      <th>id</th>\n",
              "      <th>dialogue</th>\n",
              "      <th>summary</th>\n",
              "    </tr>\n",
              "  </thead>\n",
              "  <tbody>\n",
              "    <tr>\n",
              "      <th>0</th>\n",
              "      <td>13862856</td>\n",
              "      <td>Hannah: Hey, do you have Betty's number?\\nAman...</td>\n",
              "      <td>Hannah needs Betty's number but Amanda doesn't...</td>\n",
              "    </tr>\n",
              "    <tr>\n",
              "      <th>1</th>\n",
              "      <td>13729565</td>\n",
              "      <td>Eric: MACHINE!\\r\\nRob: That's so gr8!\\r\\nEric:...</td>\n",
              "      <td>Eric and Rob are going to watch a stand-up on ...</td>\n",
              "    </tr>\n",
              "    <tr>\n",
              "      <th>2</th>\n",
              "      <td>13680171</td>\n",
              "      <td>Lenny: Babe, can you help me with something?\\r...</td>\n",
              "      <td>Lenny can't decide which trousers to buy. Bob ...</td>\n",
              "    </tr>\n",
              "    <tr>\n",
              "      <th>3</th>\n",
              "      <td>13729438</td>\n",
              "      <td>Will: hey babe, what do you want for dinner to...</td>\n",
              "      <td>Emma will be home soon and she will let Will k...</td>\n",
              "    </tr>\n",
              "    <tr>\n",
              "      <th>4</th>\n",
              "      <td>13828600</td>\n",
              "      <td>Ollie: Hi , are you in Warsaw\\r\\nJane: yes, ju...</td>\n",
              "      <td>Jane is in Warsaw. Ollie and Jane has a party....</td>\n",
              "    </tr>\n",
              "  </tbody>\n",
              "</table>\n",
              "</div>\n",
              "    <div class=\"colab-df-buttons\">\n",
              "\n",
              "  <div class=\"colab-df-container\">\n",
              "    <button class=\"colab-df-convert\" onclick=\"convertToInteractive('df-a01088e2-21d2-4c95-a4a8-cd36dff5d1f5')\"\n",
              "            title=\"Convert this dataframe to an interactive table.\"\n",
              "            style=\"display:none;\">\n",
              "\n",
              "  <svg xmlns=\"http://www.w3.org/2000/svg\" height=\"24px\" viewBox=\"0 -960 960 960\">\n",
              "    <path d=\"M120-120v-720h720v720H120Zm60-500h600v-160H180v160Zm220 220h160v-160H400v160Zm0 220h160v-160H400v160ZM180-400h160v-160H180v160Zm440 0h160v-160H620v160ZM180-180h160v-160H180v160Zm440 0h160v-160H620v160Z\"/>\n",
              "  </svg>\n",
              "    </button>\n",
              "\n",
              "  <style>\n",
              "    .colab-df-container {\n",
              "      display:flex;\n",
              "      gap: 12px;\n",
              "    }\n",
              "\n",
              "    .colab-df-convert {\n",
              "      background-color: #E8F0FE;\n",
              "      border: none;\n",
              "      border-radius: 50%;\n",
              "      cursor: pointer;\n",
              "      display: none;\n",
              "      fill: #1967D2;\n",
              "      height: 32px;\n",
              "      padding: 0 0 0 0;\n",
              "      width: 32px;\n",
              "    }\n",
              "\n",
              "    .colab-df-convert:hover {\n",
              "      background-color: #E2EBFA;\n",
              "      box-shadow: 0px 1px 2px rgba(60, 64, 67, 0.3), 0px 1px 3px 1px rgba(60, 64, 67, 0.15);\n",
              "      fill: #174EA6;\n",
              "    }\n",
              "\n",
              "    .colab-df-buttons div {\n",
              "      margin-bottom: 4px;\n",
              "    }\n",
              "\n",
              "    [theme=dark] .colab-df-convert {\n",
              "      background-color: #3B4455;\n",
              "      fill: #D2E3FC;\n",
              "    }\n",
              "\n",
              "    [theme=dark] .colab-df-convert:hover {\n",
              "      background-color: #434B5C;\n",
              "      box-shadow: 0px 1px 3px 1px rgba(0, 0, 0, 0.15);\n",
              "      filter: drop-shadow(0px 1px 2px rgba(0, 0, 0, 0.3));\n",
              "      fill: #FFFFFF;\n",
              "    }\n",
              "  </style>\n",
              "\n",
              "    <script>\n",
              "      const buttonEl =\n",
              "        document.querySelector('#df-a01088e2-21d2-4c95-a4a8-cd36dff5d1f5 button.colab-df-convert');\n",
              "      buttonEl.style.display =\n",
              "        google.colab.kernel.accessAllowed ? 'block' : 'none';\n",
              "\n",
              "      async function convertToInteractive(key) {\n",
              "        const element = document.querySelector('#df-a01088e2-21d2-4c95-a4a8-cd36dff5d1f5');\n",
              "        const dataTable =\n",
              "          await google.colab.kernel.invokeFunction('convertToInteractive',\n",
              "                                                    [key], {});\n",
              "        if (!dataTable) return;\n",
              "\n",
              "        const docLinkHtml = 'Like what you see? Visit the ' +\n",
              "          '<a target=\"_blank\" href=https://colab.research.google.com/notebooks/data_table.ipynb>data table notebook</a>'\n",
              "          + ' to learn more about interactive tables.';\n",
              "        element.innerHTML = '';\n",
              "        dataTable['output_type'] = 'display_data';\n",
              "        await google.colab.output.renderOutput(dataTable, element);\n",
              "        const docLink = document.createElement('div');\n",
              "        docLink.innerHTML = docLinkHtml;\n",
              "        element.appendChild(docLink);\n",
              "      }\n",
              "    </script>\n",
              "  </div>\n",
              "\n",
              "\n",
              "<div id=\"df-10a6060e-6e0b-4ec5-b2c2-6acfbab1302d\">\n",
              "  <button class=\"colab-df-quickchart\" onclick=\"quickchart('df-10a6060e-6e0b-4ec5-b2c2-6acfbab1302d')\"\n",
              "            title=\"Suggest charts\"\n",
              "            style=\"display:none;\">\n",
              "\n",
              "<svg xmlns=\"http://www.w3.org/2000/svg\" height=\"24px\"viewBox=\"0 0 24 24\"\n",
              "     width=\"24px\">\n",
              "    <g>\n",
              "        <path d=\"M19 3H5c-1.1 0-2 .9-2 2v14c0 1.1.9 2 2 2h14c1.1 0 2-.9 2-2V5c0-1.1-.9-2-2-2zM9 17H7v-7h2v7zm4 0h-2V7h2v10zm4 0h-2v-4h2v4z\"/>\n",
              "    </g>\n",
              "</svg>\n",
              "  </button>\n",
              "\n",
              "<style>\n",
              "  .colab-df-quickchart {\n",
              "      --bg-color: #E8F0FE;\n",
              "      --fill-color: #1967D2;\n",
              "      --hover-bg-color: #E2EBFA;\n",
              "      --hover-fill-color: #174EA6;\n",
              "      --disabled-fill-color: #AAA;\n",
              "      --disabled-bg-color: #DDD;\n",
              "  }\n",
              "\n",
              "  [theme=dark] .colab-df-quickchart {\n",
              "      --bg-color: #3B4455;\n",
              "      --fill-color: #D2E3FC;\n",
              "      --hover-bg-color: #434B5C;\n",
              "      --hover-fill-color: #FFFFFF;\n",
              "      --disabled-bg-color: #3B4455;\n",
              "      --disabled-fill-color: #666;\n",
              "  }\n",
              "\n",
              "  .colab-df-quickchart {\n",
              "    background-color: var(--bg-color);\n",
              "    border: none;\n",
              "    border-radius: 50%;\n",
              "    cursor: pointer;\n",
              "    display: none;\n",
              "    fill: var(--fill-color);\n",
              "    height: 32px;\n",
              "    padding: 0;\n",
              "    width: 32px;\n",
              "  }\n",
              "\n",
              "  .colab-df-quickchart:hover {\n",
              "    background-color: var(--hover-bg-color);\n",
              "    box-shadow: 0 1px 2px rgba(60, 64, 67, 0.3), 0 1px 3px 1px rgba(60, 64, 67, 0.15);\n",
              "    fill: var(--button-hover-fill-color);\n",
              "  }\n",
              "\n",
              "  .colab-df-quickchart-complete:disabled,\n",
              "  .colab-df-quickchart-complete:disabled:hover {\n",
              "    background-color: var(--disabled-bg-color);\n",
              "    fill: var(--disabled-fill-color);\n",
              "    box-shadow: none;\n",
              "  }\n",
              "\n",
              "  .colab-df-spinner {\n",
              "    border: 2px solid var(--fill-color);\n",
              "    border-color: transparent;\n",
              "    border-bottom-color: var(--fill-color);\n",
              "    animation:\n",
              "      spin 1s steps(1) infinite;\n",
              "  }\n",
              "\n",
              "  @keyframes spin {\n",
              "    0% {\n",
              "      border-color: transparent;\n",
              "      border-bottom-color: var(--fill-color);\n",
              "      border-left-color: var(--fill-color);\n",
              "    }\n",
              "    20% {\n",
              "      border-color: transparent;\n",
              "      border-left-color: var(--fill-color);\n",
              "      border-top-color: var(--fill-color);\n",
              "    }\n",
              "    30% {\n",
              "      border-color: transparent;\n",
              "      border-left-color: var(--fill-color);\n",
              "      border-top-color: var(--fill-color);\n",
              "      border-right-color: var(--fill-color);\n",
              "    }\n",
              "    40% {\n",
              "      border-color: transparent;\n",
              "      border-right-color: var(--fill-color);\n",
              "      border-top-color: var(--fill-color);\n",
              "    }\n",
              "    60% {\n",
              "      border-color: transparent;\n",
              "      border-right-color: var(--fill-color);\n",
              "    }\n",
              "    80% {\n",
              "      border-color: transparent;\n",
              "      border-right-color: var(--fill-color);\n",
              "      border-bottom-color: var(--fill-color);\n",
              "    }\n",
              "    90% {\n",
              "      border-color: transparent;\n",
              "      border-bottom-color: var(--fill-color);\n",
              "    }\n",
              "  }\n",
              "</style>\n",
              "\n",
              "  <script>\n",
              "    async function quickchart(key) {\n",
              "      const quickchartButtonEl =\n",
              "        document.querySelector('#' + key + ' button');\n",
              "      quickchartButtonEl.disabled = true;  // To prevent multiple clicks.\n",
              "      quickchartButtonEl.classList.add('colab-df-spinner');\n",
              "      try {\n",
              "        const charts = await google.colab.kernel.invokeFunction(\n",
              "            'suggestCharts', [key], {});\n",
              "      } catch (error) {\n",
              "        console.error('Error during call to suggestCharts:', error);\n",
              "      }\n",
              "      quickchartButtonEl.classList.remove('colab-df-spinner');\n",
              "      quickchartButtonEl.classList.add('colab-df-quickchart-complete');\n",
              "    }\n",
              "    (() => {\n",
              "      let quickchartButtonEl =\n",
              "        document.querySelector('#df-10a6060e-6e0b-4ec5-b2c2-6acfbab1302d button');\n",
              "      quickchartButtonEl.style.display =\n",
              "        google.colab.kernel.accessAllowed ? 'block' : 'none';\n",
              "    })();\n",
              "  </script>\n",
              "</div>\n",
              "    </div>\n",
              "  </div>\n"
            ]
          },
          "metadata": {},
          "execution_count": 9
        }
      ]
    },
    {
      "cell_type": "code",
      "source": [
        "#Check the shape of the dataset\n",
        "def print_shape_df(df, ds_name=\"df\"):\n",
        "\n",
        "    print(f\"{ds_name} dataset has {df.shape[0]} rows and {df.shape[1]} columns\")\n",
        "\n",
        "print_shape_df(train_df, \"training\")\n",
        "print_shape_df(test_df, \"testing\")\n",
        "print_shape_df(validation_df, \"validation\")"
      ],
      "metadata": {
        "colab": {
          "base_uri": "https://localhost:8080/"
        },
        "id": "rB-SYFMByupT",
        "outputId": "4f37331c-7071-4b30-ba29-c8d48a8f9cb7"
      },
      "execution_count": 10,
      "outputs": [
        {
          "output_type": "stream",
          "name": "stdout",
          "text": [
            "training dataset has 14732 rows and 3 columns\n",
            "testing dataset has 819 rows and 3 columns\n",
            "validation dataset has 818 rows and 3 columns\n"
          ]
        }
      ]
    },
    {
      "cell_type": "code",
      "source": [
        "#Check the null values\n",
        "def check_null(df, ds_name='df'):\n",
        "    print(f\"Null Values in each col in the {ds_name} dataset:\\n\")\n",
        "    print(df.isnull().sum())\n",
        "\n",
        "check_null(train_df, \"training\")\n",
        "print()\n",
        "check_null(test_df, \"testing\")\n",
        "print()\n",
        "check_null(validation_df, \"validation\")"
      ],
      "metadata": {
        "colab": {
          "base_uri": "https://localhost:8080/"
        },
        "id": "oEKt7AXTyuzn",
        "outputId": "9bcac977-c4c3-482b-acd1-ceaf6d7c8374"
      },
      "execution_count": 11,
      "outputs": [
        {
          "output_type": "stream",
          "name": "stdout",
          "text": [
            "Null Values in each col in the training dataset:\n",
            "\n",
            "id          0\n",
            "dialogue    1\n",
            "summary     0\n",
            "dtype: int64\n",
            "\n",
            "Null Values in each col in the testing dataset:\n",
            "\n",
            "id          0\n",
            "dialogue    0\n",
            "summary     0\n",
            "dtype: int64\n",
            "\n",
            "Null Values in each col in the validation dataset:\n",
            "\n",
            "id          0\n",
            "dialogue    0\n",
            "summary     0\n",
            "dtype: int64\n"
          ]
        }
      ]
    },
    {
      "cell_type": "markdown",
      "source": [
        "## Data preprocessing"
      ],
      "metadata": {
        "id": "djijoHjcBUBk"
      }
    },
    {
      "cell_type": "code",
      "source": [
        "# Drop rows with any null values in the training dataset\n",
        "train_df = train_df.dropna()\n",
        "\n",
        "# Recheck for null values after dropping\n",
        "check_null(train_df, \"training\")"
      ],
      "metadata": {
        "colab": {
          "base_uri": "https://localhost:8080/"
        },
        "id": "nS_DZHRSBC__",
        "outputId": "d3977936-aeeb-4e19-9879-68b295494cb3"
      },
      "execution_count": 12,
      "outputs": [
        {
          "output_type": "stream",
          "name": "stdout",
          "text": [
            "Null Values in each col in the training dataset:\n",
            "\n",
            "id          0\n",
            "dialogue    0\n",
            "summary     0\n",
            "dtype: int64\n"
          ]
        }
      ]
    },
    {
      "cell_type": "code",
      "source": [
        "#remove tages\n",
        "def clean_tags(text):\n",
        "    clean = re.compile('<.*?>') # Compiling tags\n",
        "    clean = re.sub(clean, '', text) # Replacing tags text by an empty string\n",
        "\n",
        "    # Removing empty dialogues\n",
        "    clean = '\\n'.join([line for line in clean.split('\\n') if not re.match('.*:\\s*$', line)])\n",
        "\n",
        "    return clean"
      ],
      "metadata": {
        "id": "tEFRENY0BDI_"
      },
      "execution_count": 13,
      "outputs": []
    },
    {
      "cell_type": "code",
      "source": [
        "def remove_emojis(text):\n",
        "    # Define the pattern for matching emojis\n",
        "    emoji_pattern = re.compile(\"[\"\n",
        "                           u\"\\U0001F600-\\U0001F64F\"  # emoticons\n",
        "                           u\"\\U0001F300-\\U0001F5FF\"  # symbols & pictographs\n",
        "                           u\"\\U0001F680-\\U0001F6FF\"  # transport & map symbols\n",
        "                           u\"\\U0001F1E0-\\U0001F1FF\"  # flags (iOS)\n",
        "                           u\"\\U00002702-\\U000027B0\"\n",
        "                           u\"\\U000024C2-\\U0001F251\"\n",
        "                           \"]+\", flags=re.UNICODE)\n",
        "\n",
        "    # Remove emojis from the text\n",
        "    return emoji_pattern.sub(r'', text)"
      ],
      "metadata": {
        "id": "fX5NiAJLnJ5F"
      },
      "execution_count": 59,
      "outputs": []
    },
    {
      "cell_type": "code",
      "source": [
        "# Defining function to clean every text in the dataset.\n",
        "def clean_df(df, cols):\n",
        "    for col in cols:\n",
        "        df[col] = df[col].fillna('').apply(clean_tags)\n",
        "        df[col] = df[col].apply(remove_emojis)\n",
        "    return df"
      ],
      "metadata": {
        "id": "Y-RNFWp8BYyK"
      },
      "execution_count": 60,
      "outputs": []
    },
    {
      "cell_type": "code",
      "source": [
        "# Cleaning texts in all datasets\n",
        "train_df = clean_df(train_df,['dialogue', 'summary'])\n",
        "test_df = clean_df(test_df,['dialogue', 'summary'])\n",
        "validation_df = clean_df(validation_df,['dialogue', 'summary'])"
      ],
      "metadata": {
        "id": "5MlrlYUyBY9V"
      },
      "execution_count": 61,
      "outputs": []
    },
    {
      "cell_type": "code",
      "source": [
        "train_df.tail(3)"
      ],
      "metadata": {
        "colab": {
          "base_uri": "https://localhost:8080/",
          "height": 195
        },
        "id": "C3XrW0L4BZCd",
        "outputId": "4a575c10-5b48-4bae-ce2a-a3b57a55d30d"
      },
      "execution_count": 62,
      "outputs": [
        {
          "output_type": "execute_result",
          "data": {
            "text/plain": [
              "             id                                           dialogue  \\\n",
              "14729  13819050  John: Every day some bad news. Japan will hunt...   \n",
              "14730  13828395  Jennifer: Dear Celia! How are you doing?\\r\\nJe...   \n",
              "14731  13729017  Georgia: are you ready for hotel hunting? We n...   \n",
              "\n",
              "                                                 summary  \\\n",
              "14729  Japan is going to hunt whales again. Island an...   \n",
              "14730  Celia couldn't make it to the afternoon with t...   \n",
              "14731  Georgia and Juliette are looking for a hotel i...   \n",
              "\n",
              "                                TF-IDF Generated Summary  \\\n",
              "14729  scandinavians n't use nets japanese use norway...   \n",
              "14730  jennifer maria brought plenty cookies still li...   \n",
              "14731  need book something finally lisbon juliette su...   \n",
              "\n",
              "                                        TextRank Summary  \\\n",
              "14729  scandinavians n't use nets japanese use norway...   \n",
              "14730  jennifer dear celia celia thank dear celia my ...   \n",
              "14731  georgia ok give second juliette sure georgia a...   \n",
              "\n",
              "                                     Best TF-IDF Summary  \n",
              "14729  scandinavians n't use nets japanese use norway...  \n",
              "14730  jennifer maria brought plenty cookies i still ...  \n",
              "14731  we need book something finally lisbon juliette...  "
            ],
            "text/html": [
              "\n",
              "  <div id=\"df-5af3ac53-4e6d-42b8-9c1d-382c25d923e2\" class=\"colab-df-container\">\n",
              "    <div>\n",
              "<style scoped>\n",
              "    .dataframe tbody tr th:only-of-type {\n",
              "        vertical-align: middle;\n",
              "    }\n",
              "\n",
              "    .dataframe tbody tr th {\n",
              "        vertical-align: top;\n",
              "    }\n",
              "\n",
              "    .dataframe thead th {\n",
              "        text-align: right;\n",
              "    }\n",
              "</style>\n",
              "<table border=\"1\" class=\"dataframe\">\n",
              "  <thead>\n",
              "    <tr style=\"text-align: right;\">\n",
              "      <th></th>\n",
              "      <th>id</th>\n",
              "      <th>dialogue</th>\n",
              "      <th>summary</th>\n",
              "      <th>TF-IDF Generated Summary</th>\n",
              "      <th>TextRank Summary</th>\n",
              "      <th>Best TF-IDF Summary</th>\n",
              "    </tr>\n",
              "  </thead>\n",
              "  <tbody>\n",
              "    <tr>\n",
              "      <th>14729</th>\n",
              "      <td>13819050</td>\n",
              "      <td>John: Every day some bad news. Japan will hunt...</td>\n",
              "      <td>Japan is going to hunt whales again. Island an...</td>\n",
              "      <td>scandinavians n't use nets japanese use norway...</td>\n",
              "      <td>scandinavians n't use nets japanese use norway...</td>\n",
              "      <td>scandinavians n't use nets japanese use norway...</td>\n",
              "    </tr>\n",
              "    <tr>\n",
              "      <th>14730</th>\n",
              "      <td>13828395</td>\n",
              "      <td>Jennifer: Dear Celia! How are you doing?\\r\\nJe...</td>\n",
              "      <td>Celia couldn't make it to the afternoon with t...</td>\n",
              "      <td>jennifer maria brought plenty cookies still li...</td>\n",
              "      <td>jennifer dear celia celia thank dear celia my ...</td>\n",
              "      <td>jennifer maria brought plenty cookies i still ...</td>\n",
              "    </tr>\n",
              "    <tr>\n",
              "      <th>14731</th>\n",
              "      <td>13729017</td>\n",
              "      <td>Georgia: are you ready for hotel hunting? We n...</td>\n",
              "      <td>Georgia and Juliette are looking for a hotel i...</td>\n",
              "      <td>need book something finally lisbon juliette su...</td>\n",
              "      <td>georgia ok give second juliette sure georgia a...</td>\n",
              "      <td>we need book something finally lisbon juliette...</td>\n",
              "    </tr>\n",
              "  </tbody>\n",
              "</table>\n",
              "</div>\n",
              "    <div class=\"colab-df-buttons\">\n",
              "\n",
              "  <div class=\"colab-df-container\">\n",
              "    <button class=\"colab-df-convert\" onclick=\"convertToInteractive('df-5af3ac53-4e6d-42b8-9c1d-382c25d923e2')\"\n",
              "            title=\"Convert this dataframe to an interactive table.\"\n",
              "            style=\"display:none;\">\n",
              "\n",
              "  <svg xmlns=\"http://www.w3.org/2000/svg\" height=\"24px\" viewBox=\"0 -960 960 960\">\n",
              "    <path d=\"M120-120v-720h720v720H120Zm60-500h600v-160H180v160Zm220 220h160v-160H400v160Zm0 220h160v-160H400v160ZM180-400h160v-160H180v160Zm440 0h160v-160H620v160ZM180-180h160v-160H180v160Zm440 0h160v-160H620v160Z\"/>\n",
              "  </svg>\n",
              "    </button>\n",
              "\n",
              "  <style>\n",
              "    .colab-df-container {\n",
              "      display:flex;\n",
              "      gap: 12px;\n",
              "    }\n",
              "\n",
              "    .colab-df-convert {\n",
              "      background-color: #E8F0FE;\n",
              "      border: none;\n",
              "      border-radius: 50%;\n",
              "      cursor: pointer;\n",
              "      display: none;\n",
              "      fill: #1967D2;\n",
              "      height: 32px;\n",
              "      padding: 0 0 0 0;\n",
              "      width: 32px;\n",
              "    }\n",
              "\n",
              "    .colab-df-convert:hover {\n",
              "      background-color: #E2EBFA;\n",
              "      box-shadow: 0px 1px 2px rgba(60, 64, 67, 0.3), 0px 1px 3px 1px rgba(60, 64, 67, 0.15);\n",
              "      fill: #174EA6;\n",
              "    }\n",
              "\n",
              "    .colab-df-buttons div {\n",
              "      margin-bottom: 4px;\n",
              "    }\n",
              "\n",
              "    [theme=dark] .colab-df-convert {\n",
              "      background-color: #3B4455;\n",
              "      fill: #D2E3FC;\n",
              "    }\n",
              "\n",
              "    [theme=dark] .colab-df-convert:hover {\n",
              "      background-color: #434B5C;\n",
              "      box-shadow: 0px 1px 3px 1px rgba(0, 0, 0, 0.15);\n",
              "      filter: drop-shadow(0px 1px 2px rgba(0, 0, 0, 0.3));\n",
              "      fill: #FFFFFF;\n",
              "    }\n",
              "  </style>\n",
              "\n",
              "    <script>\n",
              "      const buttonEl =\n",
              "        document.querySelector('#df-5af3ac53-4e6d-42b8-9c1d-382c25d923e2 button.colab-df-convert');\n",
              "      buttonEl.style.display =\n",
              "        google.colab.kernel.accessAllowed ? 'block' : 'none';\n",
              "\n",
              "      async function convertToInteractive(key) {\n",
              "        const element = document.querySelector('#df-5af3ac53-4e6d-42b8-9c1d-382c25d923e2');\n",
              "        const dataTable =\n",
              "          await google.colab.kernel.invokeFunction('convertToInteractive',\n",
              "                                                    [key], {});\n",
              "        if (!dataTable) return;\n",
              "\n",
              "        const docLinkHtml = 'Like what you see? Visit the ' +\n",
              "          '<a target=\"_blank\" href=https://colab.research.google.com/notebooks/data_table.ipynb>data table notebook</a>'\n",
              "          + ' to learn more about interactive tables.';\n",
              "        element.innerHTML = '';\n",
              "        dataTable['output_type'] = 'display_data';\n",
              "        await google.colab.output.renderOutput(dataTable, element);\n",
              "        const docLink = document.createElement('div');\n",
              "        docLink.innerHTML = docLinkHtml;\n",
              "        element.appendChild(docLink);\n",
              "      }\n",
              "    </script>\n",
              "  </div>\n",
              "\n",
              "\n",
              "<div id=\"df-1bbada0c-f7fc-4fb5-ba35-de35379636cd\">\n",
              "  <button class=\"colab-df-quickchart\" onclick=\"quickchart('df-1bbada0c-f7fc-4fb5-ba35-de35379636cd')\"\n",
              "            title=\"Suggest charts\"\n",
              "            style=\"display:none;\">\n",
              "\n",
              "<svg xmlns=\"http://www.w3.org/2000/svg\" height=\"24px\"viewBox=\"0 0 24 24\"\n",
              "     width=\"24px\">\n",
              "    <g>\n",
              "        <path d=\"M19 3H5c-1.1 0-2 .9-2 2v14c0 1.1.9 2 2 2h14c1.1 0 2-.9 2-2V5c0-1.1-.9-2-2-2zM9 17H7v-7h2v7zm4 0h-2V7h2v10zm4 0h-2v-4h2v4z\"/>\n",
              "    </g>\n",
              "</svg>\n",
              "  </button>\n",
              "\n",
              "<style>\n",
              "  .colab-df-quickchart {\n",
              "      --bg-color: #E8F0FE;\n",
              "      --fill-color: #1967D2;\n",
              "      --hover-bg-color: #E2EBFA;\n",
              "      --hover-fill-color: #174EA6;\n",
              "      --disabled-fill-color: #AAA;\n",
              "      --disabled-bg-color: #DDD;\n",
              "  }\n",
              "\n",
              "  [theme=dark] .colab-df-quickchart {\n",
              "      --bg-color: #3B4455;\n",
              "      --fill-color: #D2E3FC;\n",
              "      --hover-bg-color: #434B5C;\n",
              "      --hover-fill-color: #FFFFFF;\n",
              "      --disabled-bg-color: #3B4455;\n",
              "      --disabled-fill-color: #666;\n",
              "  }\n",
              "\n",
              "  .colab-df-quickchart {\n",
              "    background-color: var(--bg-color);\n",
              "    border: none;\n",
              "    border-radius: 50%;\n",
              "    cursor: pointer;\n",
              "    display: none;\n",
              "    fill: var(--fill-color);\n",
              "    height: 32px;\n",
              "    padding: 0;\n",
              "    width: 32px;\n",
              "  }\n",
              "\n",
              "  .colab-df-quickchart:hover {\n",
              "    background-color: var(--hover-bg-color);\n",
              "    box-shadow: 0 1px 2px rgba(60, 64, 67, 0.3), 0 1px 3px 1px rgba(60, 64, 67, 0.15);\n",
              "    fill: var(--button-hover-fill-color);\n",
              "  }\n",
              "\n",
              "  .colab-df-quickchart-complete:disabled,\n",
              "  .colab-df-quickchart-complete:disabled:hover {\n",
              "    background-color: var(--disabled-bg-color);\n",
              "    fill: var(--disabled-fill-color);\n",
              "    box-shadow: none;\n",
              "  }\n",
              "\n",
              "  .colab-df-spinner {\n",
              "    border: 2px solid var(--fill-color);\n",
              "    border-color: transparent;\n",
              "    border-bottom-color: var(--fill-color);\n",
              "    animation:\n",
              "      spin 1s steps(1) infinite;\n",
              "  }\n",
              "\n",
              "  @keyframes spin {\n",
              "    0% {\n",
              "      border-color: transparent;\n",
              "      border-bottom-color: var(--fill-color);\n",
              "      border-left-color: var(--fill-color);\n",
              "    }\n",
              "    20% {\n",
              "      border-color: transparent;\n",
              "      border-left-color: var(--fill-color);\n",
              "      border-top-color: var(--fill-color);\n",
              "    }\n",
              "    30% {\n",
              "      border-color: transparent;\n",
              "      border-left-color: var(--fill-color);\n",
              "      border-top-color: var(--fill-color);\n",
              "      border-right-color: var(--fill-color);\n",
              "    }\n",
              "    40% {\n",
              "      border-color: transparent;\n",
              "      border-right-color: var(--fill-color);\n",
              "      border-top-color: var(--fill-color);\n",
              "    }\n",
              "    60% {\n",
              "      border-color: transparent;\n",
              "      border-right-color: var(--fill-color);\n",
              "    }\n",
              "    80% {\n",
              "      border-color: transparent;\n",
              "      border-right-color: var(--fill-color);\n",
              "      border-bottom-color: var(--fill-color);\n",
              "    }\n",
              "    90% {\n",
              "      border-color: transparent;\n",
              "      border-bottom-color: var(--fill-color);\n",
              "    }\n",
              "  }\n",
              "</style>\n",
              "\n",
              "  <script>\n",
              "    async function quickchart(key) {\n",
              "      const quickchartButtonEl =\n",
              "        document.querySelector('#' + key + ' button');\n",
              "      quickchartButtonEl.disabled = true;  // To prevent multiple clicks.\n",
              "      quickchartButtonEl.classList.add('colab-df-spinner');\n",
              "      try {\n",
              "        const charts = await google.colab.kernel.invokeFunction(\n",
              "            'suggestCharts', [key], {});\n",
              "      } catch (error) {\n",
              "        console.error('Error during call to suggestCharts:', error);\n",
              "      }\n",
              "      quickchartButtonEl.classList.remove('colab-df-spinner');\n",
              "      quickchartButtonEl.classList.add('colab-df-quickchart-complete');\n",
              "    }\n",
              "    (() => {\n",
              "      let quickchartButtonEl =\n",
              "        document.querySelector('#df-1bbada0c-f7fc-4fb5-ba35-de35379636cd button');\n",
              "      quickchartButtonEl.style.display =\n",
              "        google.colab.kernel.accessAllowed ? 'block' : 'none';\n",
              "    })();\n",
              "  </script>\n",
              "</div>\n",
              "    </div>\n",
              "  </div>\n"
            ]
          },
          "metadata": {},
          "execution_count": 62
        }
      ]
    },
    {
      "cell_type": "code",
      "source": [
        "letters_len=train_df['dialogue'].str.len()\n",
        "plt.hist(letters_len,color='blue')\n",
        "plt.title(\"Distrbution of Number of letters in each text\")\n",
        "plt.xlabel(\"Num of letters\")\n",
        "plt.ylabel(\"Frequency\")\n",
        "plt.show()"
      ],
      "metadata": {
        "colab": {
          "base_uri": "https://localhost:8080/",
          "height": 472
        },
        "id": "yFCimIwjO2pU",
        "outputId": "b4ff44ed-bac9-4553-f0f3-72b38ddea709"
      },
      "execution_count": 63,
      "outputs": [
        {
          "output_type": "display_data",
          "data": {
            "text/plain": [
              "<Figure size 640x480 with 1 Axes>"
            ],
            "image/png": "[encoded data removed]"
          },
          "metadata": {}
        }
      ]
    },
    {
      "cell_type": "code",
      "source": [
        "words_len=train_df['dialogue'].str.split().map(lambda x: len(x))\n",
        "plt.hist(words_len,color='green')\n",
        "plt.title(\"Distrbution of Number of words in each text\")\n",
        "plt.xlabel(\"Num of words\")\n",
        "plt.ylabel(\"Frequency\")\n",
        "plt.show()"
      ],
      "metadata": {
        "colab": {
          "base_uri": "https://localhost:8080/",
          "height": 472
        },
        "id": "n0vWojzHO2yK",
        "outputId": "ff7aae49-1ebb-45ae-ba68-e990f22e5906"
      },
      "execution_count": 64,
      "outputs": [
        {
          "output_type": "display_data",
          "data": {
            "text/plain": [
              "<Figure size 640x480 with 1 Axes>"
            ],
            "image/png": "[encoded data removed]"
          },
          "metadata": {}
        }
      ]
    },
    {
      "cell_type": "code",
      "source": [
        "word=train_df['dialogue'].str.split().apply(lambda x : [len(i) for i in x])\n",
        "word = word.map(lambda x: np.mean(x))\n",
        "sns.distplot(word,color='red')\n",
        "plt.title(\"Average word length in each text\")\n",
        "plt.xlabel(\"Num of words\")\n",
        "plt.ylabel(\"Precentage\")\n",
        "plt.show()"
      ],
      "metadata": {
        "colab": {
          "base_uri": "https://localhost:8080/",
          "height": 663
        },
        "id": "8TZMG9HyO22c",
        "outputId": "127cf0a1-497b-44fa-b520-d1b5e2472f32"
      },
      "execution_count": 65,
      "outputs": [
        {
          "output_type": "stream",
          "name": "stderr",
          "text": [
            "<ipython-input-65-96ff532b645b>:3: UserWarning: \n",
            "\n",
            "`distplot` is a deprecated function and will be removed in seaborn v0.14.0.\n",
            "\n",
            "Please adapt your code to use either `displot` (a figure-level function with\n",
            "similar flexibility) or `histplot` (an axes-level function for histograms).\n",
            "\n",
            "For a guide to updating your code to use the new functions, please see\n",
            "https://gist.github.com/mwaskom/de44147ed2974457ad6372750bbe5751\n",
            "\n",
            "  sns.distplot(word,color='red')\n"
          ]
        },
        {
          "output_type": "display_data",
          "data": {
            "text/plain": [
              "<Figure size 640x480 with 1 Axes>"
            ],
            "image/png": "[encoded data removed]"
          },
          "metadata": {}
        }
      ]
    },
    {
      "cell_type": "markdown",
      "source": [
        "## TF-IDF"
      ],
      "metadata": {
        "id": "IOdO1knazmhH"
      }
    },
    {
      "cell_type": "code",
      "source": [
        "nltk.download('punkt')\n",
        "nltk.download('stopwords')\n",
        "\n",
        "def preprocess(text):\n",
        "    text = text.lower()  # Lowercasing\n",
        "    sentences = sent_tokenize(text)\n",
        "    stop_words = set(stopwords.words('english'))\n",
        "    filtered_sentences = []\n",
        "    for sent in sentences:\n",
        "        words = word_tokenize(sent)\n",
        "        filtered_words = [word for word in words if word not in stop_words and word not in string.punctuation]\n",
        "        filtered_sentences.append(' '.join(filtered_words))\n",
        "    return filtered_sentences"
      ],
      "metadata": {
        "colab": {
          "base_uri": "https://localhost:8080/"
        },
        "id": "Y4JfPpi0yvDf",
        "outputId": "de3be5ef-b028-4439-e3de-cdc5f212832e"
      },
      "execution_count": 66,
      "outputs": [
        {
          "output_type": "stream",
          "name": "stderr",
          "text": [
            "[nltk_data] Downloading package punkt to /root/nltk_data...\n",
            "[nltk_data]   Package punkt is already up-to-date!\n",
            "[nltk_data] Downloading package stopwords to /root/nltk_data...\n",
            "[nltk_data]   Package stopwords is already up-to-date!\n"
          ]
        }
      ]
    },
    {
      "cell_type": "code",
      "source": [
        "def tfidf_vectorize(sentences, max_df=1.0, min_df=1, ngram_range=(1, 2)):\n",
        "    try:\n",
        "        vectorizer = TfidfVectorizer(max_df=max_df, min_df=min_df, ngram_range=ngram_range)\n",
        "        sentence_vectors = vectorizer.fit_transform(sentences)\n",
        "        return sentence_vectors, vectorizer, True  # True indicates success\n",
        "    except ValueError:\n",
        "        return None, None, False  # False indicates failure"
      ],
      "metadata": {
        "id": "ViPBgDQayvNy"
      },
      "execution_count": 67,
      "outputs": []
    },
    {
      "cell_type": "code",
      "source": [
        "def tfidf_summarize(dialogue, num_sentences=3, max_df=1.0, min_df=1, ngram_range=(1, 2)):\n",
        "    sentences = preprocess(dialogue)\n",
        "    sentence_vectors, vectorizer, success = tfidf_vectorize(sentences, max_df=max_df, min_df=min_df, ngram_range=ngram_range)\n",
        "    if success and sentence_vectors is not None:\n",
        "        scores = np.array(sentence_vectors.sum(axis=1)).ravel()\n",
        "        ranked_sentences = [sentences[i] for i in np.argsort(scores, axis=0)[::-1]]\n",
        "        return ' '.join(ranked_sentences[:num_sentences])\n",
        "    else:\n",
        "        return None  # Return None if vectorization failed"
      ],
      "metadata": {
        "id": "KD3vuf5aqDgS"
      },
      "execution_count": 68,
      "outputs": []
    },
    {
      "cell_type": "code",
      "source": [
        "# Generate summaries for all dialogues\n",
        "generated_summaries = train_df['dialogue'].apply(tfidf_summarize)\n",
        "\n",
        "# Add these summaries to original DataFrame\n",
        "train_df['TF-IDF Generated Summary'] = generated_summaries\n",
        "\n",
        "# Randomly select 5 dialogues for comparison\n",
        "random_comparison = train_df.sample(5, random_state=np.random.RandomState())\n",
        "\n",
        "# Create a DataFrame for comparison\n",
        "comparison_df = pd.DataFrame({\n",
        "    'Actual Summary': random_comparison['summary'],\n",
        "    'TF-IDF Generated Summary': random_comparison['TF-IDF Generated Summary']\n",
        "})\n",
        "\n",
        "# Use Styler for left alignment of the comparison DataFrame\n",
        "comparison_df_styled = comparison_df.style.set_properties(**{'text-align': 'left'})\n",
        "comparison_df_styled"
      ],
      "metadata": {
        "colab": {
          "base_uri": "https://localhost:8080/",
          "height": 327
        },
        "id": "Xm6nBLjmqDow",
        "outputId": "34485db1-5adb-46e6-fc7b-7bc108f462e3"
      },
      "execution_count": 69,
      "outputs": [
        {
          "output_type": "execute_result",
          "data": {
            "text/plain": [
              "<pandas.io.formats.style.Styler at 0x7c3413dd7e80>"
            ],
            "text/html": [
              "<style type=\"text/css\">\n",
              "#T_adc0f_row0_col0, #T_adc0f_row0_col1, #T_adc0f_row1_col0, #T_adc0f_row1_col1, #T_adc0f_row2_col0, #T_adc0f_row2_col1, #T_adc0f_row3_col0, #T_adc0f_row3_col1, #T_adc0f_row4_col0, #T_adc0f_row4_col1 {\n",
              "  text-align: left;\n",
              "}\n",
              "</style>\n",
              "<table id=\"T_adc0f\" class=\"dataframe\">\n",
              "  <thead>\n",
              "    <tr>\n",
              "      <th class=\"blank level0\" >&nbsp;</th>\n",
              "      <th id=\"T_adc0f_level0_col0\" class=\"col_heading level0 col0\" >Actual Summary</th>\n",
              "      <th id=\"T_adc0f_level0_col1\" class=\"col_heading level0 col1\" >TF-IDF Generated Summary</th>\n",
              "    </tr>\n",
              "  </thead>\n",
              "  <tbody>\n",
              "    <tr>\n",
              "      <th id=\"T_adc0f_level0_row0\" class=\"row_heading level0 row0\" >590</th>\n",
              "      <td id=\"T_adc0f_row0_col0\" class=\"data row0 col0\" >Jose's bus is running 4 minutes late.</td>\n",
              "      <td id=\"T_adc0f_row0_col1\" class=\"data row0 col1\" >jose far 4 mins natalie ok ben ok let us know 're jose bus running late ben long</td>\n",
              "    </tr>\n",
              "    <tr>\n",
              "      <th id=\"T_adc0f_level0_row1\" class=\"row_heading level0 row1\" >5900</th>\n",
              "      <td id=\"T_adc0f_row1_col0\" class=\"data row1 col0\" >Mike's got a new expensive bike.</td>\n",
              "      <td id=\"T_adc0f_row1_col1\" class=\"data row1 col1\" >adam looks great mike new bike much cost</td>\n",
              "    </tr>\n",
              "    <tr>\n",
              "      <th id=\"T_adc0f_level0_row2\" class=\"row_heading level0 row2\" >12102</th>\n",
              "      <td id=\"T_adc0f_row2_col0\" class=\"data row2 col0\" >Helen, Laura and Marcela will meet at the university next week. They graduated 2 years ago.</td>\n",
              "      <td id=\"T_adc0f_row2_col1\" class=\"data row2 col1\" >marcela believe 's two years since finished university laura time flies marcela shall meet uni laura uni would nice laura could see anything changed helen drink cafeteria p helen 'm excited see next week laura</td>\n",
              "    </tr>\n",
              "    <tr>\n",
              "      <th id=\"T_adc0f_level0_row3\" class=\"row_heading level0 row3\" >3881</th>\n",
              "      <td id=\"T_adc0f_row3_col0\" class=\"data row3 col0\" >Julian works as a security guard on nights and weekend and is going to Manchester tonight. Julian will sleep in the weekend. Emma will study. Emma's dad's birthday is tomorrow and she will make a banana fudge cake for the occasion.</td>\n",
              "      <td id=\"T_adc0f_row3_col1\" class=\"data row3 col1\" >emma thinking banana fudge cake ... mainly cos sounds tasty p julian ooh spunds amazing emma lets hope tastes amazing julian bet emma 'll let know julian okay save slice plans comparison kinda boring p tying loose ends break julian yeah amazing im gon na breaking heads left right center emma someone 's fun p elle lucy btw emma sound boring ... studying 's dad bday tomorrow 'll probably take brrak emma im making cake julian aah okay oooh cake gon na make</td>\n",
              "    </tr>\n",
              "    <tr>\n",
              "      <th id=\"T_adc0f_level0_row4\" class=\"row_heading level0 row4\" >2482</th>\n",
              "      <td id=\"T_adc0f_row4_col0\" class=\"data row4 col0\" >The 4th season of Narcos is out today. Ola and Thomas have seen the previous season. The new season is taking place in Mexico and features an actor that Thomas can't imagine in a serious role. It doesn't seem interesting to Thomas.</td>\n",
              "      <td id=\"T_adc0f_row4_col1\" class=\"data row4 col1\" >thomas idea p ola 4th even seen previous one thomas two ola ok ok. know new season happening plus ca n't imagine actor playing serious role</td>\n",
              "    </tr>\n",
              "  </tbody>\n",
              "</table>\n"
            ]
          },
          "metadata": {},
          "execution_count": 69
        }
      ]
    },
    {
      "cell_type": "code",
      "source": [
        "print(\"Length of generated summaries:\", len(generated_summaries))\n",
        "print(\"Length of reference summaries:\", len(train_df['summary']))"
      ],
      "metadata": {
        "colab": {
          "base_uri": "https://localhost:8080/"
        },
        "id": "XOZMl-aFdM9H",
        "outputId": "ee965fba-f88f-4b8b-dd08-309a838c4a83"
      },
      "execution_count": 24,
      "outputs": [
        {
          "output_type": "stream",
          "name": "stdout",
          "text": [
            "Length of generated summaries: 14731\n",
            "Length of reference summaries: 14731\n"
          ]
        }
      ]
    },
    {
      "cell_type": "code",
      "source": [
        "def calculate_rouge_scores(generated_summaries, reference_summaries):\n",
        "    rouge = Rouge()\n",
        "    scores = rouge.get_scores(generated_summaries, reference_summaries, avg=True)\n",
        "    return scores\n",
        "\n",
        "# Re-generate summaries\n",
        "generated_summaries = [tfidf_summarize(dialogue) for dialogue in train_df['dialogue']]\n",
        "\n",
        "# Convert all elements to strings in generated_summaries\n",
        "generated_summaries = [str(summary) for summary in generated_summaries]\n",
        "\n",
        "train_df['summary'] = train_df['summary'].astype(str)\n",
        "\n",
        "# Re-calculate ROUGE scores\n",
        "rouge_scores = calculate_rouge_scores(generated_summaries, train_df['summary'].tolist())\n",
        "rouge_scores_df = pd.DataFrame.from_dict(rouge_scores, orient='index')\n",
        "rouge_scores_df.columns = ['F1-Score', 'Precision', 'Recall']\n",
        "print(rouge_scores_df)"
      ],
      "metadata": {
        "colab": {
          "base_uri": "https://localhost:8080/"
        },
        "id": "cHzZ0YmiR08H",
        "outputId": "c1a26ae1-e3c7-4bf1-ccde-606a32ac7c42"
      },
      "execution_count": 25,
      "outputs": [
        {
          "output_type": "stream",
          "name": "stdout",
          "text": [
            "         F1-Score  Precision    Recall\n",
            "rouge-1  0.194327   0.151060  0.161869\n",
            "rouge-2  0.030506   0.020628  0.023024\n",
            "rouge-l  0.175202   0.136214  0.145849\n"
          ]
        }
      ]
    },
    {
      "cell_type": "markdown",
      "source": [
        " F1-Score  Precision    Recall\n",
        "rouge-1  0.194327   0.151060  0.161869\n",
        "rouge-2  0.030506   0.020628  0.023024\n",
        "rouge-l  0.175202   0.136214  0.145849"
      ],
      "metadata": {
        "id": "PdmoFJZBjiMr"
      }
    },
    {
      "cell_type": "markdown",
      "source": [
        "## TF-IDF Parameter Tuning"
      ],
      "metadata": {
        "id": "F1rI3AD76VuS"
      }
    },
    {
      "cell_type": "code",
      "source": [
        "# param_grid = {\n",
        "#     'max_df': [0.9, 0.95],\n",
        "#     'min_df': [0.001, 0.01],\n",
        "#     'ngram_range': [(1, 1), (1, 2), (1, 3)],\n",
        "#     'num_sentences': [1, 2, 3]\n",
        "# }\n",
        "\n",
        "# rouge_evaluator = Rouge()\n",
        "# best_score = 0\n",
        "# best_params = None\n",
        "\n",
        "# for combo in product(*param_grid.values()):\n",
        "#     params = dict(zip(param_grid.keys(), combo))\n",
        "\n",
        "#     generated_summaries = [tfidf_summarize(dialogue, **params) for dialogue in train_df['dialogue']]\n",
        "#     generated_summaries = [summary if summary is not None else \"\" for summary in generated_summaries]  # Replace None with empty strings\n",
        "\n",
        "#     try:\n",
        "#         scores = rouge_evaluator.get_scores(generated_summaries, train_df['summary'].tolist(), avg=True)\n",
        "#         avg_rouge_score = np.mean([scores['rouge-1']['f'], scores['rouge-2']['f'], scores['rouge-l']['f']])\n",
        "#         if avg_rouge_score > best_score:\n",
        "#             best_score = avg_rouge_score\n",
        "#             best_params = params\n",
        "#     except ValueError:\n",
        "#         # Skip this combination if ROUGE calculation fails\n",
        "#         continue\n",
        "\n",
        "# print(f\"Best Params: {best_params}, Best ROUGE Score: {best_score}\")"
      ],
      "metadata": {
        "id": "R-ykakkaBafN"
      },
      "execution_count": 28,
      "outputs": []
    },
    {
      "cell_type": "code",
      "source": [
        "from scipy.stats import uniform\n",
        "from sklearn.model_selection import RandomizedSearchCV\n",
        "from random import sample\n",
        "\n",
        "param_grid = {\n",
        "    'max_df': uniform(0.8, 1.0),  # Range from 0.8 to 1.0\n",
        "    'min_df': uniform(0.001, 0.01),  # Range from 0.001 to 0.021\n",
        "    'ngram_range': [(1, 1), (1, 2), (1, 3)],\n",
        "    'num_sentences': [1, 2, 3, 4]\n",
        "}\n",
        "\n",
        "\n",
        "# Randomly sample combinations from the parameter space\n",
        "num_combinations = 50  # Number of random combinations to sample\n",
        "random_combinations = sample(list(product(param_grid['max_df'].rvs(size=100),\n",
        "                                          param_grid['min_df'].rvs(size=100),\n",
        "                                          param_grid['ngram_range'],\n",
        "                                          param_grid['num_sentences'])),\n",
        "                             num_combinations)"
      ],
      "metadata": {
        "id": "npfC2coi8kSi"
      },
      "execution_count": 43,
      "outputs": []
    },
    {
      "cell_type": "code",
      "source": [
        "rouge_evaluator = Rouge()\n",
        "best_score = 0\n",
        "best_params = None\n",
        "\n",
        "for params in random_combinations:\n",
        "    max_df, min_df, ngram_range, num_sentences = params\n",
        "    generated_summaries = [tfidf_summarize(dialogue, num_sentences, max_df, min_df, ngram_range) for dialogue in train_df['dialogue'][:5]]  # Test on a subset\n",
        "    generated_summaries = [summary if summary is not None else \"\" for summary in generated_summaries]\n",
        "\n",
        "    try:\n",
        "        scores = rouge_evaluator.get_scores(generated_summaries, train_df['summary'].tolist()[:5], avg=True)\n",
        "        rouge_1_score = scores['rouge-1']['f']\n",
        "        rouge_2_score = scores['rouge-2']['f']\n",
        "        rouge_l_score = scores['rouge-l']['f']\n",
        "\n",
        "        avg_rouge_score = np.mean([rouge_1_score, rouge_2_score, rouge_l_score])\n",
        "        if avg_rouge_score > best_score:\n",
        "            best_score = avg_rouge_score\n",
        "            best_params = params\n",
        "            # Store the individual ROUGE scores for the best parameter set\n",
        "            best_scores = {'rouge-1': rouge_1_score, 'rouge-2': rouge_2_score, 'rouge-l': rouge_l_score}\n",
        "    except ValueError:\n",
        "        continue\n",
        "\n",
        "print(f\"Best Params: {best_params}, Best Avg ROUGE Score: {best_score}\")\n",
        "print(f\"Best ROUGE-1 Score: {best_scores['rouge-1']}, Best ROUGE-2 Score: {best_scores['rouge-2']}, Best ROUGE-L Score: {best_scores['rouge-l']}\")\n",
        "\n"
      ],
      "metadata": {
        "colab": {
          "base_uri": "https://localhost:8080/"
        },
        "id": "twTMgoH786ht",
        "outputId": "01c70666-2378-4254-dcbf-9a79201a70ff"
      },
      "execution_count": 44,
      "outputs": [
        {
          "output_type": "stream",
          "name": "stdout",
          "text": [
            "Best Params: (0.8860642772248835, 0.006287404238110133, (1, 1), 2), Best Avg ROUGE Score: 0.1474751811050006\n",
            "Best ROUGE-1 Score: 0.24250128785590822, Best ROUGE-2 Score: 0.03428571270122459, Best ROUGE-L Score: 0.165638542757869\n"
          ]
        }
      ]
    },
    {
      "cell_type": "markdown",
      "source": [
        "Best Params: (0.8860642772248835, 0.006287404238110133, (1, 1), 2), Best Avg ROUGE Score: 0.1474751811050006\n",
        "Best ROUGE-1 Score: 0.24250128785590822, Best ROUGE-2 Score: 0.03428571270122459, Best ROUGE-L Score: 0.165638542757869"
      ],
      "metadata": {
        "id": "QNzMZb0aiZYt"
      }
    },
    {
      "cell_type": "code",
      "source": [
        "# Best parameters identified from your analysis\n",
        "best_tfidf_params = {\n",
        "    'max_df': 0.886,\n",
        "    'min_df': 0.006,\n",
        "    'ngram_range': (1, 1),\n",
        "    'num_sentences': 2\n",
        "}\n",
        "\n",
        "# Apply the TF-IDF summarization with the best parameters to each dialogue in your DataFrame\n",
        "train_df['Best TF-IDF Summary'] = train_df['dialogue'].apply(lambda x: tfidf_summarize(x, **best_tfidf_params))\n",
        "\n",
        "# Display some example summaries for inspection\n",
        "print(train_df[['dialogue', 'Best TF-IDF Summary']].head())"
      ],
      "metadata": {
        "colab": {
          "base_uri": "https://localhost:8080/"
        },
        "id": "0CBPcxLrjrbh",
        "outputId": "bcbecc20-dd15-46c3-98d9-3c690d4f64e8"
      },
      "execution_count": 51,
      "outputs": [
        {
          "output_type": "stream",
          "name": "stdout",
          "text": [
            "                                            dialogue  \\\n",
            "0  Amanda: I baked  cookies. Do you want some?\\r\\...   \n",
            "1  Olivia: Who are you voting for in this electio...   \n",
            "2  Tim: Hi, what's up?\\r\\nKim: Bad mood tbh, I wa...   \n",
            "3  Edward: Rachel, I think I'm in ove with Bella....   \n",
            "4  Sam: hey  overheard rick say something\\r\\nSam:...   \n",
            "\n",
            "                                 Best TF-IDF Summary  \n",
            "0  amanda i 'll bring tomorrow amanda i baked coo...  \n",
            "1  olivia who voting election oliver liberals always  \n",
            "2  kim oh know uni stuff unfucking room kim maybe...  \n",
            "3  edward rachel i think i 'm ove bella .. rachel...  \n",
            "4  naomi honestly 's bothering much talk naomi se...  \n"
          ]
        }
      ]
    },
    {
      "cell_type": "code",
      "source": [
        "# Create a DataFrame for comparison\n",
        "tuned_comparison_df = pd.DataFrame({\n",
        "    'Actual Summary': train_df['summary'],\n",
        "    'Best TF-IDF Summary': train_df['Best TF-IDF Summary']\n",
        "})\n",
        "\n",
        "tuned_comparison_subset = tuned_comparison_df.head(5)\n",
        "# Use Styler for left alignment of the comparison DataFrame\n",
        "tuned_comparison_df_styled = tuned_comparison_subset.style.set_properties(**{'text-align': 'left'})\n",
        "\n",
        "# Display the styled DataFrame\n",
        "tuned_comparison_df_styled"
      ],
      "metadata": {
        "colab": {
          "base_uri": "https://localhost:8080/",
          "height": 293
        },
        "id": "U1kbsY3WlaMF",
        "outputId": "4b113442-2284-493b-a130-e10522828c5a"
      },
      "execution_count": 58,
      "outputs": [
        {
          "output_type": "execute_result",
          "data": {
            "text/plain": [
              "<pandas.io.formats.style.Styler at 0x7c340eebcf40>"
            ],
            "text/html": [
              "<style type=\"text/css\">\n",
              "#T_9e6ed_row0_col0, #T_9e6ed_row0_col1, #T_9e6ed_row1_col0, #T_9e6ed_row1_col1, #T_9e6ed_row2_col0, #T_9e6ed_row2_col1, #T_9e6ed_row3_col0, #T_9e6ed_row3_col1, #T_9e6ed_row4_col0, #T_9e6ed_row4_col1 {\n",
              "  text-align: left;\n",
              "}\n",
              "</style>\n",
              "<table id=\"T_9e6ed\" class=\"dataframe\">\n",
              "  <thead>\n",
              "    <tr>\n",
              "      <th class=\"blank level0\" >&nbsp;</th>\n",
              "      <th id=\"T_9e6ed_level0_col0\" class=\"col_heading level0 col0\" >Actual Summary</th>\n",
              "      <th id=\"T_9e6ed_level0_col1\" class=\"col_heading level0 col1\" >Best TF-IDF Summary</th>\n",
              "    </tr>\n",
              "  </thead>\n",
              "  <tbody>\n",
              "    <tr>\n",
              "      <th id=\"T_9e6ed_level0_row0\" class=\"row_heading level0 row0\" >0</th>\n",
              "      <td id=\"T_9e6ed_row0_col0\" class=\"data row0 col0\" >Amanda baked cookies and will bring Jerry some tomorrow.</td>\n",
              "      <td id=\"T_9e6ed_row0_col1\" class=\"data row0 col1\" >amanda i 'll bring tomorrow amanda i baked cookies</td>\n",
              "    </tr>\n",
              "    <tr>\n",
              "      <th id=\"T_9e6ed_level0_row1\" class=\"row_heading level0 row1\" >1</th>\n",
              "      <td id=\"T_9e6ed_row1_col0\" class=\"data row1 col0\" >Olivia and Olivier are voting for liberals in this election. </td>\n",
              "      <td id=\"T_9e6ed_row1_col1\" class=\"data row1 col1\" >olivia who voting election oliver liberals always</td>\n",
              "    </tr>\n",
              "    <tr>\n",
              "      <th id=\"T_9e6ed_level0_row2\" class=\"row_heading level0 row2\" >2</th>\n",
              "      <td id=\"T_9e6ed_row2_col0\" class=\"data row2 col0\" >Kim may try the pomodoro technique recommended by Tim to get more stuff done.</td>\n",
              "      <td id=\"T_9e6ed_row2_col1\" class=\"data row2 col1\" >kim oh know uni stuff unfucking room kim maybe tomorrow i 'll move ass everything kim we going defrost fridge instead shopping i 'll eat defrosted veggies tim for stuff i recommend pomodoro technique u use breaks chores tim it really helps kim thanks maybe i 'll tim i also like using post-its kaban style kim bad mood tbh i going lots stuff ended procrastinating tim what plan</td>\n",
              "    </tr>\n",
              "    <tr>\n",
              "      <th id=\"T_9e6ed_level0_row3\" class=\"row_heading level0 row3\" >3</th>\n",
              "      <td id=\"T_9e6ed_row3_col0\" class=\"data row3 col0\" >Edward thinks he is in love with Bella. Rachel wants Edward to open his door. Rachel is outside. </td>\n",
              "      <td id=\"T_9e6ed_row3_col1\" class=\"data row3 col1\" >edward rachel i think i 'm ove bella .. rachel dont say anything else .. edward what mean rachel open fu ing door ..</td>\n",
              "    </tr>\n",
              "    <tr>\n",
              "      <th id=\"T_9e6ed_level0_row4\" class=\"row_heading level0 row4\" >4</th>\n",
              "      <td id=\"T_9e6ed_row4_col0\" class=\"data row4 col0\" >Sam is confused, because he overheard Rick complaining about him as a roommate. Naomi thinks Sam should talk to Rick. Sam is not sure what to do.</td>\n",
              "      <td id=\"T_9e6ed_row4_col1\" class=\"data row4 col1\" >naomi honestly 's bothering much talk naomi see 's going sam n't want get kind confrontation though sam maybe 'll let go sam see goes future naomi 's choice sam naomi would talk clear air sam thought good rommate sam nice place naomi 's true man</td>\n",
              "    </tr>\n",
              "  </tbody>\n",
              "</table>\n"
            ]
          },
          "metadata": {},
          "execution_count": 58
        }
      ]
    },
    {
      "cell_type": "markdown",
      "source": [
        "## TextRank"
      ],
      "metadata": {
        "id": "4ZHmsTg1z-0m"
      }
    },
    {
      "cell_type": "code",
      "source": [
        "def preprocess(text):\n",
        "    stop_words = set(stopwords.words('english'))\n",
        "    sentences = sent_tokenize(text)\n",
        "    processed_sentences = []\n",
        "    for sentence in sentences:\n",
        "        words = word_tokenize(sentence)\n",
        "        filtered_words = [word.lower() for word in words if word not in stop_words and word not in string.punctuation]\n",
        "        processed_sentences.append(' '.join(filtered_words))\n",
        "    return processed_sentences"
      ],
      "metadata": {
        "id": "8K6tPR1NqDsf"
      },
      "execution_count": 45,
      "outputs": []
    },
    {
      "cell_type": "code",
      "source": [
        "def build_similarity_matrix(sentences):\n",
        "    vectorizer = TfidfVectorizer()\n",
        "    sentence_vectors = vectorizer.fit_transform(sentences)\n",
        "    similarity_matrix = cosine_similarity(sentence_vectors)\n",
        "    return similarity_matrix"
      ],
      "metadata": {
        "id": "IikaYR5Q1WbU"
      },
      "execution_count": 46,
      "outputs": []
    },
    {
      "cell_type": "code",
      "source": [
        "def textrank_summarize(text, top_n=3):\n",
        "    sentences = preprocess(text)\n",
        "    similarity_matrix = build_similarity_matrix(sentences)\n",
        "\n",
        "    nx_graph = nx.from_numpy_array(similarity_matrix)\n",
        "    scores = nx.pagerank(nx_graph)\n",
        "\n",
        "    ranked_sentences = sorted(((scores[i], s) for i, s in enumerate(sentences)), reverse=True)\n",
        "    selected_sentences = [sentences[i] for i, _ in sorted(enumerate(sentences), key=lambda x: scores[x[0]], reverse=True)[:top_n]]\n",
        "    return ' '.join(selected_sentences)"
      ],
      "metadata": {
        "id": "Ax50Q9ce1a9-"
      },
      "execution_count": 47,
      "outputs": []
    },
    {
      "cell_type": "code",
      "source": [
        "# Preprocess and generate summaries\n",
        "train_df['TextRank Summary'] = train_df['dialogue'].apply(textrank_summarize)\n",
        "\n",
        "# Randomly select 5 dialogues for comparison\n",
        "TR_comparison_samples = train_df.sample(5, random_state=np.random.RandomState())\n",
        "\n",
        "# Create a DataFrame for comparison\n",
        "TR_comparison_df = pd.DataFrame({\n",
        "    'Actual Summary': TR_comparison_samples['summary'],\n",
        "    'TextRank Summary': TR_comparison_samples['TextRank Summary']\n",
        "})\n",
        "\n",
        "# Use Styler for left alignment of the comparison DataFrame\n",
        "TR_comparison_df_styled = TR_comparison_df.style.set_properties(**{'text-align': 'left'})\n",
        "TR_comparison_df_styled"
      ],
      "metadata": {
        "id": "MDqzmfbd2e8-",
        "colab": {
          "base_uri": "https://localhost:8080/",
          "height": 327
        },
        "outputId": "ebea600a-2c1b-4e19-fe09-6f7e0d0b1771"
      },
      "execution_count": 48,
      "outputs": [
        {
          "output_type": "execute_result",
          "data": {
            "text/plain": [
              "<pandas.io.formats.style.Styler at 0x7c3464511c00>"
            ],
            "text/html": [
              "<style type=\"text/css\">\n",
              "#T_ddac2_row0_col0, #T_ddac2_row0_col1, #T_ddac2_row1_col0, #T_ddac2_row1_col1, #T_ddac2_row2_col0, #T_ddac2_row2_col1, #T_ddac2_row3_col0, #T_ddac2_row3_col1, #T_ddac2_row4_col0, #T_ddac2_row4_col1 {\n",
              "  text-align: left;\n",
              "}\n",
              "</style>\n",
              "<table id=\"T_ddac2\" class=\"dataframe\">\n",
              "  <thead>\n",
              "    <tr>\n",
              "      <th class=\"blank level0\" >&nbsp;</th>\n",
              "      <th id=\"T_ddac2_level0_col0\" class=\"col_heading level0 col0\" >Actual Summary</th>\n",
              "      <th id=\"T_ddac2_level0_col1\" class=\"col_heading level0 col1\" >TextRank Summary</th>\n",
              "    </tr>\n",
              "  </thead>\n",
              "  <tbody>\n",
              "    <tr>\n",
              "      <th id=\"T_ddac2_level0_row0\" class=\"row_heading level0 row0\" >3507</th>\n",
              "      <td id=\"T_ddac2_row0_col0\" class=\"data row0 col0\" >Chloe finds the new math teacher attractive and reasonable, Andrew hasn't met him yet.</td>\n",
              "      <td id=\"T_ddac2_row0_col1\" class=\"data row0 col1\" >andrew let see chloe hot right andrew i bet chloe are coming tomorrow andrew yep chloe you chance meet person</td>\n",
              "    </tr>\n",
              "    <tr>\n",
              "      <th id=\"T_ddac2_level0_row1\" class=\"row_heading level0 row1\" >4713</th>\n",
              "      <td id=\"T_ddac2_row1_col0\" class=\"data row1 col0\" >Amber and Hugh didn't invite Lilly to go with them to a concert tonight. Heather invites her to go to the cinema with her and her high school friends instead.</td>\n",
              "      <td id=\"T_ddac2_row1_col1\" class=\"data row1 col1\" >heather bunch friends high school going lilly thanks invite lilly 'd love feel insulted lilly amber hugh going concert tonight lilly n't invite</td>\n",
              "    </tr>\n",
              "    <tr>\n",
              "      <th id=\"T_ddac2_level0_row2\" class=\"row_heading level0 row2\" >8036</th>\n",
              "      <td id=\"T_ddac2_row2_col0\" class=\"data row2 col0\" >Sarah hit the pillar with the car while she was leaving her parking spot. </td>\n",
              "      <td id=\"T_ddac2_row2_col1\" class=\"data row2 col1\" >jack d zoe kidding xd jack amazing ... sarah thanks guys ... zoe manage ripped whole thing lol jack somebody needs learn drive lol sarah leaving parking spot ... sarah touched pillar ... jack d jack sorry 's really funny zoe jack ... zoe 's gon na ok ... xd sarah really thanks ... n't told anything jack haha good job</td>\n",
              "    </tr>\n",
              "    <tr>\n",
              "      <th id=\"T_ddac2_level0_row3\" class=\"row_heading level0 row3\" >3735</th>\n",
              "      <td id=\"T_ddac2_row3_col0\" class=\"data row3 col0\" >Rowan is joining Jo for lunch tommorow at 1 pm at the Pret next to the BL.</td>\n",
              "      <td id=\"T_ddac2_row3_col1\" class=\"data row3 col1\" >jo see tomorrow rowan cool jo i 'd say 1 pm 's ok rowan yeah sure jo see rowan sure</td>\n",
              "    </tr>\n",
              "    <tr>\n",
              "      <th id=\"T_ddac2_level0_row4\" class=\"row_heading level0 row4\" >1815</th>\n",
              "      <td id=\"T_ddac2_row4_col0\" class=\"data row4 col0\" >Jorge, Sierra and Taylor are taking the astronomy class together.</td>\n",
              "      <td id=\"T_ddac2_row4_col1\" class=\"data row4 col1\" >sierra you rn sierra theres many classes open spots left jorge oh noo jorge i ca n't believe people jorge are choosing time sierra i n't know take sierra honestly taylor were screwed 😵 taylor i take look rn jorge are taking science together</td>\n",
              "    </tr>\n",
              "  </tbody>\n",
              "</table>\n"
            ]
          },
          "metadata": {},
          "execution_count": 48
        }
      ]
    },
    {
      "cell_type": "code",
      "source": [
        "# Calculate ROUGE scores for generated summaries\n",
        "rouge_evaluator = Rouge()\n",
        "TR_rouge_scores = rouge_evaluator.get_scores(train_df['TextRank Summary'].tolist(), train_df['summary'].tolist(), avg=True)\n",
        "TR_rouge_scores_df = pd.DataFrame.from_dict(rouge_scores, orient='index')\n",
        "TR_rouge_scores_df.columns = ['F-Score', 'Precision', 'Recall']"
      ],
      "metadata": {
        "id": "YioGsmAJ2gzO"
      },
      "execution_count": 49,
      "outputs": []
    },
    {
      "cell_type": "code",
      "source": [
        "print(TR_rouge_scores_df)"
      ],
      "metadata": {
        "colab": {
          "base_uri": "https://localhost:8080/"
        },
        "id": "CkYHtsXlAT52",
        "outputId": "982edd1d-f866-479d-cc4f-8b733f6fd7ec"
      },
      "execution_count": 50,
      "outputs": [
        {
          "output_type": "stream",
          "name": "stdout",
          "text": [
            "          F-Score  Precision    Recall\n",
            "rouge-1  0.194327   0.151060  0.161869\n",
            "rouge-2  0.030506   0.020628  0.023024\n",
            "rouge-l  0.175202   0.136214  0.145849\n"
          ]
        }
      ]
    },
    {
      "cell_type": "markdown",
      "source": [
        "F-Score  Precision    Recall\n",
        "rouge-1  0.194327   0.151060  0.161869\n",
        "rouge-2  0.030506   0.020628  0.023024\n",
        "rouge-l  0.175202   0.136214  0.145849"
      ],
      "metadata": {
        "id": "Yh-xILlUj1e8"
      }
    },
    {
      "cell_type": "markdown",
      "source": [
        "## TextRank Parameter tuning"
      ],
      "metadata": {
        "id": "mFDnwTJXi9tn"
      }
    },
    {
      "cell_type": "code",
      "source": [
        "from random import randint\n",
        "\n",
        "# Define the range for the 'top_n' parameter\n",
        "top_n_range = range(1, 6)  # Varying it from 1 to 5\n",
        "\n",
        "# Define number of random trials\n",
        "num_trials = 20\n",
        "\n",
        "best_score = 0\n",
        "best_top_n = None\n",
        "best_individual_scores = None\n",
        "rouge_evaluator = Rouge()\n",
        "\n",
        "for _ in range(num_trials):\n",
        "    # Randomly select a 'top_n' value\n",
        "    top_n = randint(min(top_n_range), max(top_n_range))\n",
        "\n",
        "    # Generate summaries using TextRank\n",
        "    train_df['TextRank Summary'] = train_df['dialogue'].apply(lambda x: textrank_summarize(x, top_n=top_n))\n",
        "\n",
        "    # Calculate ROUGE scores\n",
        "    scores = rouge_evaluator.get_scores(train_df['TextRank Summary'].tolist(), train_df['summary'].tolist(), avg=True)\n",
        "    avg_rouge_score = np.mean([scores['rouge-1']['f'], scores['rouge-2']['f'], scores['rouge-l']['f']])\n",
        "\n",
        "    # Update the best score and parameters\n",
        "    if avg_rouge_score > best_score:\n",
        "        best_score = avg_rouge_score\n",
        "        best_top_n = top_n\n",
        "        best_individual_scores = scores  # Store individual ROUGE scores\n",
        "\n",
        "print(f\"Best top_n: {best_top_n}, Best Avg ROUGE Score: {best_score}\")\n",
        "print(f\"Best ROUGE-1 Score: {best_individual_scores['rouge-1']['f']}, Best ROUGE-2 Score: {best_individual_scores['rouge-2']['f']}, Best ROUGE-L Score: {best_individual_scores['rouge-l']['f']}\")"
      ],
      "metadata": {
        "colab": {
          "base_uri": "https://localhost:8080/"
        },
        "id": "e4OqD6oVjBRC",
        "outputId": "2b913b30-42b0-472a-a3ef-1f7d3f36b3a6"
      },
      "execution_count": 70,
      "outputs": [
        {
          "output_type": "stream",
          "name": "stdout",
          "text": [
            "Best top_n: 5, Best Avg ROUGE Score: 0.1039687931186221\n",
            "Best ROUGE-1 Score: 0.1533453458574562, Best ROUGE-2 Score: 0.020235327304501366, Best ROUGE-L Score: 0.13832570619390872\n"
          ]
        }
      ]
    },
    {
      "cell_type": "markdown",
      "source": [
        "Best top_n: 5, Best Avg ROUGE Score: 0.1039687931186221\n",
        "Best ROUGE-1 Score: 0.1533453458574562, Best ROUGE-2 Score: 0.020235327304501366, Best ROUGE-L Score: 0.13832570619390872"
      ],
      "metadata": {
        "id": "FX36iN9cxibQ"
      }
    },
    {
      "cell_type": "code",
      "source": [
        "best_textrank_top_n = 5\n",
        "\n",
        "# Apply TextRank summarization with the best parameters to each dialogue in the DataFrame\n",
        "train_df['Best TextRank Summary'] = train_df['dialogue'].apply(lambda x: textrank_summarize(x, best_textrank_top_n))"
      ],
      "metadata": {
        "id": "0iHEUkaqxnHu"
      },
      "execution_count": 71,
      "outputs": []
    },
    {
      "cell_type": "code",
      "source": [
        "tuned_TR_comparison_samples = train_df.sample(5, random_state=42)\n",
        "\n",
        "# Create a DataFrame for comparison between actual summaries and best TextRank summaries\n",
        "tuned_TR_comparison_df = pd.DataFrame({\n",
        "    'Actual Summary': tuned_TR_comparison_samples['summary'],\n",
        "    'Best TextRank Summary': tuned_TR_comparison_samples['Best TextRank Summary']\n",
        "})\n",
        "\n",
        "# Use Styler for left alignment of the comparison DataFrame\n",
        "tuned_TR_comparison_df_styled = tuned_TR_comparison_df.style.set_properties(**{'text-align': 'left'})\n",
        "\n",
        "# Display the styled DataFrame\n",
        "tuned_TR_comparison_df_styled"
      ],
      "metadata": {
        "colab": {
          "base_uri": "https://localhost:8080/",
          "height": 310
        },
        "id": "xuYvQQfryN1p",
        "outputId": "cc1f5ebf-2035-49c2-af22-6a2ee26c2c0a"
      },
      "execution_count": 72,
      "outputs": [
        {
          "output_type": "execute_result",
          "data": {
            "text/plain": [
              "<pandas.io.formats.style.Styler at 0x7c340ff40100>"
            ],
            "text/html": [
              "<style type=\"text/css\">\n",
              "#T_1f9c2_row0_col0, #T_1f9c2_row0_col1, #T_1f9c2_row1_col0, #T_1f9c2_row1_col1, #T_1f9c2_row2_col0, #T_1f9c2_row2_col1, #T_1f9c2_row3_col0, #T_1f9c2_row3_col1, #T_1f9c2_row4_col0, #T_1f9c2_row4_col1 {\n",
              "  text-align: left;\n",
              "}\n",
              "</style>\n",
              "<table id=\"T_1f9c2\" class=\"dataframe\">\n",
              "  <thead>\n",
              "    <tr>\n",
              "      <th class=\"blank level0\" >&nbsp;</th>\n",
              "      <th id=\"T_1f9c2_level0_col0\" class=\"col_heading level0 col0\" >Actual Summary</th>\n",
              "      <th id=\"T_1f9c2_level0_col1\" class=\"col_heading level0 col1\" >Best TextRank Summary</th>\n",
              "    </tr>\n",
              "  </thead>\n",
              "  <tbody>\n",
              "    <tr>\n",
              "      <th id=\"T_1f9c2_level0_row0\" class=\"row_heading level0 row0\" >4742</th>\n",
              "      <td id=\"T_1f9c2_row0_col0\" class=\"data row0 col0\" >Violet sent Claire Austin's article.</td>\n",
              "      <td id=\"T_1f9c2_row0_col1\" class=\"data row0 col1\" >claire thanks thinking came across austin 's article thought might find interesting claire hi thanks 've already read violet hi</td>\n",
              "    </tr>\n",
              "    <tr>\n",
              "      <th id=\"T_1f9c2_level0_row1\" class=\"row_heading level0 row1\" >8871</th>\n",
              "      <td id=\"T_1f9c2_row1_col0\" class=\"data row1 col0\" >Mel bought Christmas presents while Evie keeps putting it off to the last minute. They have to buy a lot of gifts for their families. Mel is busy with her teaching job too. Evie misses it. Mel's and Evie were invited to Christmas lunches, so they do not have to cook.</td>\n",
              "      <td id=\"T_1f9c2_row1_col1\" class=\"data row1 col1\" >mel well yeah mel well done mel mel lot want christmas mel well 've got inspection school last week term</td>\n",
              "    </tr>\n",
              "    <tr>\n",
              "      <th id=\"T_1f9c2_level0_row2\" class=\"row_heading level0 row2\" >6555</th>\n",
              "      <td id=\"T_1f9c2_row2_col0\" class=\"data row2 col0\" >Fiona can't talk to Carol, because she's very busy. She promised to contact him tomorrow.</td>\n",
              "      <td id=\"T_1f9c2_row2_col1\" class=\"data row2 col1\" >carol talk carol pls try make effort really need talk fiona promise 'll try carol avail carol speak</td>\n",
              "    </tr>\n",
              "    <tr>\n",
              "      <th id=\"T_1f9c2_level0_row3\" class=\"row_heading level0 row3\" >12900</th>\n",
              "      <td id=\"T_1f9c2_row3_col0\" class=\"data row3 col0\" >Tom has a map of Paris.</td>\n",
              "      <td id=\"T_1f9c2_row3_col1\" class=\"data row3 col1\" >adam u map paris tom yes trip adam 's lisa mum</td>\n",
              "    </tr>\n",
              "    <tr>\n",
              "      <th id=\"T_1f9c2_level0_row4\" class=\"row_heading level0 row4\" >2596</th>\n",
              "      <td id=\"T_1f9c2_row4_col0\" class=\"data row4 col0\" >Mike is happy, because Sam's moved out. Mike and Frank grumble about Brexit. Frank is in dispute with Freda, because she voted for Brexit. Mike will talk to Freda in order to help Frank.</td>\n",
              "      <td id=\"T_1f9c2_row4_col1\" class=\"data row4 col1\" >frank yes 'd appreciate mike mike oh vague memories frank long ago frank yeah 'd never thought years ago would happened mike shall try talk freda come friday mike bloody brexit</td>\n",
              "    </tr>\n",
              "  </tbody>\n",
              "</table>\n"
            ]
          },
          "metadata": {},
          "execution_count": 72
        }
      ]
    },
    {
      "cell_type": "code",
      "source": [
        "train_df.to_csv('train_df.csv', index=False)"
      ],
      "metadata": {
        "id": "g_fDMl2VzGK3"
      },
      "execution_count": 73,
      "outputs": []
    },
    {
      "cell_type": "code",
      "source": [
        "from google.colab import files\n",
        "files.download('train_df.csv')"
      ],
      "metadata": {
        "colab": {
          "base_uri": "https://localhost:8080/",
          "height": 17
        },
        "id": "qvXqUmknzJNI",
        "outputId": "c1f214ed-2915-40d1-abf8-b77433d284ae"
      },
      "execution_count": 74,
      "outputs": [
        {
          "output_type": "display_data",
          "data": {
            "text/plain": [
              "<IPython.core.display.Javascript object>"
            ],
            "application/javascript": [
              "\n",
              "    async function download(id, filename, size) {\n",
              "      if (!google.colab.kernel.accessAllowed) {\n",
              "        return;\n",
              "      }\n",
              "      const div = document.createElement('div');\n",
              "      const label = document.createElement('label');\n",
              "      label.textContent = `Downloading \"${filename}\": `;\n",
              "      div.appendChild(label);\n",
              "      const progress = document.createElement('progress');\n",
              "      progress.max = size;\n",
              "      div.appendChild(progress);\n",
              "      document.body.appendChild(div);\n",
              "\n",
              "      const buffers = [];\n",
              "      let downloaded = 0;\n",
              "\n",
              "      const channel = await google.colab.kernel.comms.open(id);\n",
              "      // Send a message to notify the kernel that we're ready.\n",
              "      channel.send({})\n",
              "\n",
              "      for await (const message of channel.messages) {\n",
              "        // Send a message to notify the kernel that we're ready.\n",
              "        channel.send({})\n",
              "        if (message.buffers) {\n",
              "          for (const buffer of message.buffers) {\n",
              "            buffers.push(buffer);\n",
              "            downloaded += buffer.byteLength;\n",
              "            progress.value = downloaded;\n",
              "          }\n",
              "        }\n",
              "      }\n",
              "      const blob = new Blob(buffers, {type: 'application/binary'});\n",
              "      const a = document.createElement('a');\n",
              "      a.href = window.URL.createObjectURL(blob);\n",
              "      a.download = filename;\n",
              "      div.appendChild(a);\n",
              "      a.click();\n",
              "      div.remove();\n",
              "    }\n",
              "  "
            ]
          },
          "metadata": {}
        },
        {
          "output_type": "display_data",
          "data": {
            "text/plain": [
              "<IPython.core.display.Javascript object>"
            ],
            "application/javascript": [
              "download(\"download_40732adb-2ee9-4b83-84b4-8890b7a39f66\", \"train_df.csv\", 18524862)"
            ]
          },
          "metadata": {}
        }
      ]
    },
    {
      "cell_type": "markdown",
      "source": [
        "## Evaluate"
      ],
      "metadata": {
        "id": "jmSld2bH2CUE"
      }
    },
    {
      "cell_type": "code",
      "source": [
        "# Apply TF-IDF summarization to the validation dataset\n",
        "validation_df['TF-IDF Summary'] = validation_df['dialogue'].apply(lambda x: tfidf_summarize(x, **best_tfidf_params))\n",
        "\n",
        "# Apply TextRank summarization to the validation dataset\n",
        "validation_df['TextRank Summary'] = validation_df['dialogue'].apply(lambda x: textrank_summarize(x, best_textrank_top_n))\n"
      ],
      "metadata": {
        "colab": {
          "base_uri": "https://localhost:8080/",
          "height": 245
        },
        "id": "AuL6d-w52CEF",
        "outputId": "b7e3d13c-e55e-4d3d-f057-5b764a65b371"
      },
      "execution_count": 1,
      "outputs": [
        {
          "output_type": "error",
          "ename": "NameError",
          "evalue": "ignored",
          "traceback": [
            "\u001b[0;31m---------------------------------------------------------------------------\u001b[0m",
            "\u001b[0;31mNameError\u001b[0m                                 Traceback (most recent call last)",
            "\u001b[0;32m<ipython-input-1-ba9540e2bb3d>\u001b[0m in \u001b[0;36m<cell line: 2>\u001b[0;34m()\u001b[0m\n\u001b[1;32m      1\u001b[0m \u001b[0;31m# Apply TF-IDF summarization to the validation dataset\u001b[0m\u001b[0;34m\u001b[0m\u001b[0;34m\u001b[0m\u001b[0m\n\u001b[0;32m----> 2\u001b[0;31m \u001b[0mvalidation_df\u001b[0m\u001b[0;34m[\u001b[0m\u001b[0;34m'TF-IDF Summary'\u001b[0m\u001b[0;34m]\u001b[0m \u001b[0;34m=\u001b[0m \u001b[0mvalidation_df\u001b[0m\u001b[0;34m[\u001b[0m\u001b[0;34m'dialogue'\u001b[0m\u001b[0;34m]\u001b[0m\u001b[0;34m.\u001b[0m\u001b[0mapply\u001b[0m\u001b[0;34m(\u001b[0m\u001b[0;32mlambda\u001b[0m \u001b[0mx\u001b[0m\u001b[0;34m:\u001b[0m \u001b[0mtfidf_summarize\u001b[0m\u001b[0;34m(\u001b[0m\u001b[0mx\u001b[0m\u001b[0;34m,\u001b[0m \u001b[0;34m**\u001b[0m\u001b[0mbest_tfidf_params\u001b[0m\u001b[0;34m)\u001b[0m\u001b[0;34m)\u001b[0m\u001b[0;34m\u001b[0m\u001b[0;34m\u001b[0m\u001b[0m\n\u001b[0m\u001b[1;32m      3\u001b[0m \u001b[0;34m\u001b[0m\u001b[0m\n\u001b[1;32m      4\u001b[0m \u001b[0;31m# Apply TextRank summarization to the validation dataset\u001b[0m\u001b[0;34m\u001b[0m\u001b[0;34m\u001b[0m\u001b[0m\n\u001b[1;32m      5\u001b[0m \u001b[0mvalidation_df\u001b[0m\u001b[0;34m[\u001b[0m\u001b[0;34m'TextRank Summary'\u001b[0m\u001b[0;34m]\u001b[0m \u001b[0;34m=\u001b[0m \u001b[0mvalidation_df\u001b[0m\u001b[0;34m[\u001b[0m\u001b[0;34m'dialogue'\u001b[0m\u001b[0;34m]\u001b[0m\u001b[0;34m.\u001b[0m\u001b[0mapply\u001b[0m\u001b[0;34m(\u001b[0m\u001b[0;32mlambda\u001b[0m \u001b[0mx\u001b[0m\u001b[0;34m:\u001b[0m \u001b[0mtextrank_summarize\u001b[0m\u001b[0;34m(\u001b[0m\u001b[0mx\u001b[0m\u001b[0;34m,\u001b[0m \u001b[0mbest_textrank_top_n\u001b[0m\u001b[0;34m)\u001b[0m\u001b[0;34m)\u001b[0m\u001b[0;34m\u001b[0m\u001b[0;34m\u001b[0m\u001b[0m\n",
            "\u001b[0;31mNameError\u001b[0m: name 'validation_df' is not defined"
          ]
        }
      ]
    },
    {
      "cell_type": "code",
      "source": [
        "# Calculate ROUGE scores for TF-IDF on validation dataset\n",
        "tfidf_rouge_scores_validation = rouge_evaluator.get_scores(validation_df['TF-IDF Summary'].tolist(), validation_df['summary'].tolist(), avg=True)\n",
        "\n",
        "# Calculate ROUGE scores for TextRank on validation dataset\n",
        "textrank_rouge_scores_validation = rouge_evaluator.get_scores(validation_df['TextRank Summary'].tolist(), validation_df['summary'].tolist(), avg=True)\n"
      ],
      "metadata": {
        "id": "AR5lJ9o62gk3"
      },
      "execution_count": null,
      "outputs": []
    },
    {
      "cell_type": "code",
      "source": [
        "# The test dataset\n",
        "tfidf_rouge_scores_test = rouge_evaluator.get_scores(test_df['TF-IDF Summary'].tolist(), test_df['summary'].tolist(), avg=True)\n",
        "textrank_rouge_scores_test = rouge_evaluator.get_scores(test_df['TextRank Summary'].tolist(), test_df['summary'].tolist(), avg=True)"
      ],
      "metadata": {
        "id": "4fNAGXz82h2U"
      },
      "execution_count": null,
      "outputs": []
    },
    {
      "cell_type": "code",
      "source": [
        "print(\"TF-IDF ROUGE scores on Validation:\", tfidf_rouge_scores_validation)\n",
        "print(\"TextRank ROUGE scores on Validation:\", textrank_rouge_scores_validation)\n",
        "print(\"TF-IDF ROUGE scores on Test:\", tfidf_rouge_scores_test)\n",
        "print(\"TextRank ROUGE scores on Test:\", textrank_rouge_scores_test)"
      ],
      "metadata": {
        "id": "l0kPvQyy2pLp"
      },
      "execution_count": null,
      "outputs": []
    },
    {
      "cell_type": "markdown",
      "source": [
        "##Future work: Try transfomer models like Bert"
      ],
      "metadata": {
        "id": "YPAZ-WF5AZmj"
      }
    },
    {
      "cell_type": "code",
      "source": [
        "from transformers import BartTokenizer, BartForConditionalGeneration, AdamW, get_linear_schedule_with_warmup\n",
        "from torch.utils.data import DataLoader, Dataset\n",
        "import torch"
      ],
      "metadata": {
        "id": "PA1xdAp7Aa5u"
      },
      "execution_count": 75,
      "outputs": []
    },
    {
      "cell_type": "code",
      "source": [
        "# Define a dataset class\n",
        "class SummaryDataset(Dataset):\n",
        "    def __init__(self, tokenizer, df, max_length=512):\n",
        "        self.tokenizer = tokenizer\n",
        "        self.inputs = df['dialogue']\n",
        "        self.targets = df['summary']\n",
        "        self.max_length = max_length\n",
        "\n",
        "    def __len__(self):\n",
        "        return len(self.inputs)\n",
        "\n",
        "    def __getitem__(self, idx):\n",
        "        input_text = str(self.inputs[idx])\n",
        "        target_text = str(self.targets[idx])\n",
        "\n",
        "        # Tokenize inputs and targets\n",
        "        input_encodings = self.tokenizer(input_text, truncation=True, padding='max_length', max_length=self.max_length)\n",
        "        target_encodings = self.tokenizer(target_text, truncation=True, padding='max_length', max_length=self.max_length)\n",
        "\n",
        "        return {\n",
        "            'input_ids': torch.tensor(input_encodings['input_ids']),\n",
        "            'attention_mask': torch.tensor(input_encodings['attention_mask']),\n",
        "            'labels': torch.tensor(target_encodings['input_ids'])\n",
        "        }"
      ],
      "metadata": {
        "id": "srjFzS9rAd00"
      },
      "execution_count": 76,
      "outputs": []
    },
    {
      "cell_type": "code",
      "source": [
        "# Load tokenizer\n",
        "tokenizer = BartTokenizer.from_pretrained('facebook/bart-large-cnn')\n",
        "\n",
        "# Create datasets\n",
        "train_dataset = SummaryDataset(tokenizer, train_df)\n",
        "validate_dataset = SummaryDataset(tokenizer, validation_df)\n",
        "\n",
        "# Create DataLoaders\n",
        "batch_size = 4\n",
        "train_loader = DataLoader(train_dataset, batch_size=batch_size, shuffle=True)\n",
        "validate_loader = DataLoader(validate_dataset, batch_size=batch_size)"
      ],
      "metadata": {
        "id": "cHJUMHtlAfky"
      },
      "execution_count": 78,
      "outputs": []
    },
    {
      "cell_type": "code",
      "source": [
        "# Load model\n",
        "model = BartForConditionalGeneration.from_pretrained('facebook/bart-large-cnn')\n",
        "\n",
        "# Move model to GPU\n",
        "#device = torch.device(\"cuda\" if torch.cuda.is_available() else \"cpu\")\n",
        "if torch.cuda.is_available():\n",
        "    print(\"GPU\")\n",
        "    device = torch.device('cuda')\n",
        "else:\n",
        "    print(\"CPU\")\n",
        "    device = torch.device('cpu')\n",
        "\n",
        "model.to(device)\n",
        "\n",
        "# Optimizer and Scheduler\n",
        "optimizer = AdamW(model.parameters(), lr=5e-5)\n",
        "scheduler = get_linear_schedule_with_warmup(optimizer, num_warmup_steps=0, num_training_steps=len(train_loader) * num_epochs)"
      ],
      "metadata": {
        "colab": {
          "base_uri": "https://localhost:8080/",
          "height": 347,
          "referenced_widgets": [
            "48391dbb2c254bbeb425d21669b6fbd2",
            "5a2a6feb8df64400bfa2f470eb084ddf",
            "8e02874119ab4a52a53e0adac3fbf2ba",
            "2e3ad7d8bbc24fa1a419d9e876494175",
            "da31ad924df64b3aa069603f1d820b07",
            "f02c8a86d8424141ba15c579fbb16ae0",
            "42bd32d8dd854e84b207a1284729498e",
            "f53d0bfa275541f3943f8cb45da0dfa9",
            "b6ef47b9ce594c098736f48339113e07",
            "fe02d7772e254b5d9efe6b124c35324c",
            "17adccbbdced41e897b72f821f9a3f4d",
            "05734d3fa7ca472eafea6e50a9d03194",
            "7a99de6b88154e2785d7402850af66e9",
            "cacd2719a495463ea54503514cac7e17",
            "9534cb1da8554ee99850fd5473db6659",
            "446c58457390440c8528175b2a864644",
            "d1215bb223de4534855426c9dbcdf6ad",
            "de8e0085affb4c9cb29a48395cfae99d",
            "1efc30b7580c44989ca844110ea4fc28",
            "4111b1ac9bfd45e5bce8c6ce45e4f8e1",
            "e1413e505dc24746b36b89be9521d2fa",
            "44111380a30a431786fc4e13e73faef9"
          ]
        },
        "id": "piIZoGo7AiCc",
        "outputId": "a7ddabe0-fdd4-4603-ba01-5408eb80ba2a"
      },
      "execution_count": 79,
      "outputs": [
        {
          "output_type": "display_data",
          "data": {
            "text/plain": [
              "model.safetensors:   0%|          | 0.00/1.63G [00:00<?, ?B/s]"
            ],
            "application/vnd.jupyter.widget-view+json": {
              "version_major": 2,
              "version_minor": 0,
              "model_id": "48391dbb2c254bbeb425d21669b6fbd2"
            }
          },
          "metadata": {}
        },
        {
          "output_type": "display_data",
          "data": {
            "text/plain": [
              "generation_config.json:   0%|          | 0.00/363 [00:00<?, ?B/s]"
            ],
            "application/vnd.jupyter.widget-view+json": {
              "version_major": 2,
              "version_minor": 0,
              "model_id": "05734d3fa7ca472eafea6e50a9d03194"
            }
          },
          "metadata": {}
        },
        {
          "output_type": "stream",
          "name": "stdout",
          "text": [
            "CPU\n"
          ]
        },
        {
          "output_type": "stream",
          "name": "stderr",
          "text": [
            "/usr/local/lib/python3.10/dist-packages/transformers/optimization.py:411: FutureWarning: This implementation of AdamW is deprecated and will be removed in a future version. Use the PyTorch implementation torch.optim.AdamW instead, or set `no_deprecation_warning=True` to disable this warning\n",
            "  warnings.warn(\n"
          ]
        },
        {
          "output_type": "error",
          "ename": "NameError",
          "evalue": "ignored",
          "traceback": [
            "\u001b[0;31m---------------------------------------------------------------------------\u001b[0m",
            "\u001b[0;31mNameError\u001b[0m                                 Traceback (most recent call last)",
            "\u001b[0;32m<ipython-input-79-108cbdd5a6fb>\u001b[0m in \u001b[0;36m<cell line: 17>\u001b[0;34m()\u001b[0m\n\u001b[1;32m     15\u001b[0m \u001b[0;31m# Optimizer and Scheduler\u001b[0m\u001b[0;34m\u001b[0m\u001b[0;34m\u001b[0m\u001b[0m\n\u001b[1;32m     16\u001b[0m \u001b[0moptimizer\u001b[0m \u001b[0;34m=\u001b[0m \u001b[0mAdamW\u001b[0m\u001b[0;34m(\u001b[0m\u001b[0mmodel\u001b[0m\u001b[0;34m.\u001b[0m\u001b[0mparameters\u001b[0m\u001b[0;34m(\u001b[0m\u001b[0;34m)\u001b[0m\u001b[0;34m,\u001b[0m \u001b[0mlr\u001b[0m\u001b[0;34m=\u001b[0m\u001b[0;36m5e-5\u001b[0m\u001b[0;34m)\u001b[0m\u001b[0;34m\u001b[0m\u001b[0;34m\u001b[0m\u001b[0m\n\u001b[0;32m---> 17\u001b[0;31m \u001b[0mscheduler\u001b[0m \u001b[0;34m=\u001b[0m \u001b[0mget_linear_schedule_with_warmup\u001b[0m\u001b[0;34m(\u001b[0m\u001b[0moptimizer\u001b[0m\u001b[0;34m,\u001b[0m \u001b[0mnum_warmup_steps\u001b[0m\u001b[0;34m=\u001b[0m\u001b[0;36m0\u001b[0m\u001b[0;34m,\u001b[0m \u001b[0mnum_training_steps\u001b[0m\u001b[0;34m=\u001b[0m\u001b[0mlen\u001b[0m\u001b[0;34m(\u001b[0m\u001b[0mtrain_loader\u001b[0m\u001b[0;34m)\u001b[0m \u001b[0;34m*\u001b[0m \u001b[0mnum_epochs\u001b[0m\u001b[0;34m)\u001b[0m\u001b[0;34m\u001b[0m\u001b[0;34m\u001b[0m\u001b[0m\n\u001b[0m",
            "\u001b[0;31mNameError\u001b[0m: name 'num_epochs' is not defined"
          ]
        }
      ]
    },
    {
      "cell_type": "code",
      "source": [
        "from tqdm.auto import tqdm"
      ],
      "metadata": {
        "id": "FDPXbbblAldk"
      },
      "execution_count": 81,
      "outputs": []
    },
    {
      "cell_type": "code",
      "source": [
        "num_epochs = 3  # Number of epochs to train for\n",
        "\n",
        "for epoch in range(num_epochs):\n",
        "    # Training\n",
        "    model.train()\n",
        "    for batch in tqdm(train_loader):\n",
        "        optimizer.zero_grad()\n",
        "        batch = {k: v.to(device) for k, v in batch.items()}\n",
        "        outputs = model(**batch)\n",
        "        loss = outputs.loss\n",
        "        loss.backward()\n",
        "        optimizer.step()\n",
        "        scheduler.step()\n",
        "\n",
        "    # Validation\n",
        "    model.eval()\n",
        "    total_eval_loss = 0\n",
        "    for batch in tqdm(validate_loader):\n",
        "        batch = {k: v.to(device) for k, v in batch.items()}\n",
        "        with torch.no_grad():\n",
        "            outputs = model(**batch)\n",
        "            loss = outputs.loss\n",
        "            total_eval_loss += loss.item()\n",
        "\n",
        "    avg_val_loss = total_eval_loss / len(validate_loader)\n",
        "    print(f'Epoch {epoch} Validation Loss: {avg_val_loss}')"
      ],
      "metadata": {
        "colab": {
          "base_uri": "https://localhost:8080/",
          "height": 49,
          "referenced_widgets": [
            "6908a5b09701421d884e797ecfa72aed",
            "e22caf32e453432fa067b437d0af44f7",
            "03a1b8d2d972463cb06df944b4bbe120",
            "1570d6ef19f64248bf43bbeefb85d69b",
            "13bfd76c66934f6499fafa1731445de3",
            "b278f97ad45f4e2e8c5f37277cf33404",
            "11e6d098baff477f884131ca6d1d11ad",
            "c87a12b34539412c8ba49ee737dad507",
            "9be786583965422ba7956b4c8452c1cf",
            "26de68d4beab43f08b902043633b2b3d",
            "28043597ad834492aa817582aeff5b31"
          ]
        },
        "id": "u-s_bpPrAmr5",
        "outputId": "ccaefec1-d82b-4cf5-aecf-abca408c8d9d"
      },
      "execution_count": null,
      "outputs": [
        {
          "output_type": "display_data",
          "data": {
            "text/plain": [
              "  0%|          | 0/3683 [00:00<?, ?it/s]"
            ],
            "application/vnd.jupyter.widget-view+json": {
              "version_major": 2,
              "version_minor": 0,
              "model_id": "6908a5b09701421d884e797ecfa72aed"
            }
          },
          "metadata": {}
        }
      ]
    },
    {
      "cell_type": "code",
      "source": [
        "def generate_summary(batch, model, tokenizer, device):\n",
        "    # Move batch to the same device as the model\n",
        "    inputs = {k: v.to(device) for k, v in batch.items() if k in ['input_ids', 'attention_mask']}\n",
        "\n",
        "    # Generate summary IDs\n",
        "    summary_ids = model.generate(inputs['input_ids'], attention_mask=inputs['attention_mask'], max_length=150, length_penalty=2.0, num_beams=4, early_stopping=True)\n",
        "\n",
        "    # Decode and clean up summaries\n",
        "    summaries = [tokenizer.decode(g, skip_special_tokens=True, clean_up_tokenization_spaces=False) for g in summary_ids]\n",
        "    return summaries\n",
        "\n",
        "# Generate summaries for the validation set\n",
        "model.eval()\n",
        "all_generated_summaries = []\n",
        "all_actual_summaries = []\n",
        "for batch in tqdm(validate_loader):\n",
        "    generated_summaries = generate_summary(batch, model, tokenizer, device)\n",
        "    actual_summaries = [tokenizer.decode(ids, skip_special_tokens=True) for ids in batch['labels']]\n",
        "    all_generated_summaries.extend(generated_summaries)\n",
        "    all_actual_summaries.extend(actual_summaries)"
      ],
      "metadata": {
        "id": "Y5kVFAeoApMN"
      },
      "execution_count": null,
      "outputs": []
    },
    {
      "cell_type": "code",
      "source": [
        "rouge_evaluator = Rouge()\n",
        "Bart_rouge_scores = rouge_evaluator.get_scores(all_generated_summaries, all_actual_summaries, avg=True)\n",
        "\n",
        "# Convert ROUGE scores to a DataFrame for easy viewing\n",
        "Bart_rouge_scores_df = pd.DataFrame.from_dict(rouge_scores, orient='index')\n",
        "Bart_rouge_scores_df.columns = ['F-Score', 'Precision', 'Recall']\n",
        "print(Bart_rouge_scores_df)"
      ],
      "metadata": {
        "id": "5qmqVqj3Aqsf"
      },
      "execution_count": null,
      "outputs": []
    }
  ]
}